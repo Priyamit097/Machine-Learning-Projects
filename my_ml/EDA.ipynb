{
 "cells": [
  {
   "cell_type": "code",
   "execution_count": 1,
   "metadata": {
    "execution": {
     "iopub.execute_input": "2021-06-11T05:08:42.401394Z",
     "iopub.status.busy": "2021-06-11T05:08:42.400721Z",
     "iopub.status.idle": "2021-06-11T05:08:43.353118Z",
     "shell.execute_reply": "2021-06-11T05:08:43.352099Z"
    },
    "papermill": {
     "duration": 1.004931,
     "end_time": "2021-06-11T05:08:43.353354",
     "exception": false,
     "start_time": "2021-06-11T05:08:42.348423",
     "status": "completed"
    },
    "tags": []
   },
   "outputs": [],
   "source": [
    "import pandas as pd\n",
    "import numpy as np\n",
    "import matplotlib.pyplot as plt\n",
    "import seaborn as sns\n",
    "%matplotlib inline"
   ]
  },
  {
   "cell_type": "code",
   "execution_count": 8,
   "metadata": {
    "execution": {
     "iopub.execute_input": "2021-06-11T05:08:43.451989Z",
     "iopub.status.busy": "2021-06-11T05:08:43.451271Z",
     "iopub.status.idle": "2021-06-11T05:08:43.482077Z",
     "shell.execute_reply": "2021-06-11T05:08:43.481248Z"
    },
    "papermill": {
     "duration": 0.081754,
     "end_time": "2021-06-11T05:08:43.482261",
     "exception": false,
     "start_time": "2021-06-11T05:08:43.400507",
     "status": "completed"
    },
    "tags": []
   },
   "outputs": [],
   "source": [
    "df = pd.read_csv('./DATA/CardioGoodFitness-1.csv')"
   ]
  },
  {
   "cell_type": "code",
   "execution_count": 10,
   "metadata": {
    "execution": {
     "iopub.execute_input": "2021-06-11T05:08:43.587342Z",
     "iopub.status.busy": "2021-06-11T05:08:43.586613Z",
     "iopub.status.idle": "2021-06-11T05:08:43.609148Z",
     "shell.execute_reply": "2021-06-11T05:08:43.609707Z"
    },
    "papermill": {
     "duration": 0.081343,
     "end_time": "2021-06-11T05:08:43.609917",
     "exception": false,
     "start_time": "2021-06-11T05:08:43.528574",
     "status": "completed"
    },
    "tags": []
   },
   "outputs": [
    {
     "data": {
      "text/html": [
       "<div>\n",
       "<style scoped>\n",
       "    .dataframe tbody tr th:only-of-type {\n",
       "        vertical-align: middle;\n",
       "    }\n",
       "\n",
       "    .dataframe tbody tr th {\n",
       "        vertical-align: top;\n",
       "    }\n",
       "\n",
       "    .dataframe thead th {\n",
       "        text-align: right;\n",
       "    }\n",
       "</style>\n",
       "<table border=\"1\" class=\"dataframe\">\n",
       "  <thead>\n",
       "    <tr style=\"text-align: right;\">\n",
       "      <th></th>\n",
       "      <th>Product</th>\n",
       "      <th>Age</th>\n",
       "      <th>Gender</th>\n",
       "      <th>Education</th>\n",
       "      <th>MaritalStatus</th>\n",
       "      <th>Usage</th>\n",
       "      <th>Fitness</th>\n",
       "      <th>Income</th>\n",
       "      <th>Miles</th>\n",
       "    </tr>\n",
       "  </thead>\n",
       "  <tbody>\n",
       "    <tr>\n",
       "      <th>0</th>\n",
       "      <td>TM195</td>\n",
       "      <td>18</td>\n",
       "      <td>Male</td>\n",
       "      <td>14</td>\n",
       "      <td>Single</td>\n",
       "      <td>3</td>\n",
       "      <td>4</td>\n",
       "      <td>29562</td>\n",
       "      <td>112</td>\n",
       "    </tr>\n",
       "    <tr>\n",
       "      <th>1</th>\n",
       "      <td>TM195</td>\n",
       "      <td>19</td>\n",
       "      <td>Male</td>\n",
       "      <td>15</td>\n",
       "      <td>Single</td>\n",
       "      <td>2</td>\n",
       "      <td>3</td>\n",
       "      <td>31836</td>\n",
       "      <td>75</td>\n",
       "    </tr>\n",
       "    <tr>\n",
       "      <th>2</th>\n",
       "      <td>TM195</td>\n",
       "      <td>19</td>\n",
       "      <td>Female</td>\n",
       "      <td>14</td>\n",
       "      <td>Partnered</td>\n",
       "      <td>4</td>\n",
       "      <td>3</td>\n",
       "      <td>30699</td>\n",
       "      <td>66</td>\n",
       "    </tr>\n",
       "    <tr>\n",
       "      <th>3</th>\n",
       "      <td>TM195</td>\n",
       "      <td>19</td>\n",
       "      <td>Male</td>\n",
       "      <td>12</td>\n",
       "      <td>Single</td>\n",
       "      <td>3</td>\n",
       "      <td>3</td>\n",
       "      <td>32973</td>\n",
       "      <td>85</td>\n",
       "    </tr>\n",
       "    <tr>\n",
       "      <th>4</th>\n",
       "      <td>TM195</td>\n",
       "      <td>20</td>\n",
       "      <td>Male</td>\n",
       "      <td>13</td>\n",
       "      <td>Partnered</td>\n",
       "      <td>4</td>\n",
       "      <td>2</td>\n",
       "      <td>35247</td>\n",
       "      <td>47</td>\n",
       "    </tr>\n",
       "  </tbody>\n",
       "</table>\n",
       "</div>"
      ],
      "text/plain": [
       "  Product  Age  Gender  Education MaritalStatus  Usage  Fitness  Income  Miles\n",
       "0   TM195   18    Male         14        Single      3        4   29562    112\n",
       "1   TM195   19    Male         15        Single      2        3   31836     75\n",
       "2   TM195   19  Female         14     Partnered      4        3   30699     66\n",
       "3   TM195   19    Male         12        Single      3        3   32973     85\n",
       "4   TM195   20    Male         13     Partnered      4        2   35247     47"
      ]
     },
     "execution_count": 10,
     "metadata": {},
     "output_type": "execute_result"
    }
   ],
   "source": [
    "df.head()"
   ]
  },
  {
   "cell_type": "code",
   "execution_count": 12,
   "metadata": {
    "execution": {
     "iopub.execute_input": "2021-06-11T05:08:44.024741Z",
     "iopub.status.busy": "2021-06-11T05:08:44.023983Z",
     "iopub.status.idle": "2021-06-11T05:08:44.027468Z",
     "shell.execute_reply": "2021-06-11T05:08:44.027954Z"
    },
    "papermill": {
     "duration": 0.059606,
     "end_time": "2021-06-11T05:08:44.028153",
     "exception": false,
     "start_time": "2021-06-11T05:08:43.968547",
     "status": "completed"
    },
    "tags": []
   },
   "outputs": [
    {
     "name": "stdout",
     "output_type": "stream",
     "text": [
      "<class 'pandas.core.frame.DataFrame'>\n",
      "RangeIndex: 180 entries, 0 to 179\n",
      "Data columns (total 9 columns):\n",
      " #   Column         Non-Null Count  Dtype \n",
      "---  ------         --------------  ----- \n",
      " 0   Product        180 non-null    object\n",
      " 1   Age            180 non-null    int64 \n",
      " 2   Gender         180 non-null    object\n",
      " 3   Education      180 non-null    int64 \n",
      " 4   MaritalStatus  180 non-null    object\n",
      " 5   Usage          180 non-null    int64 \n",
      " 6   Fitness        180 non-null    int64 \n",
      " 7   Income         180 non-null    int64 \n",
      " 8   Miles          180 non-null    int64 \n",
      "dtypes: int64(6), object(3)\n",
      "memory usage: 12.8+ KB\n"
     ]
    }
   ],
   "source": [
    "df.info()"
   ]
  },
  {
   "cell_type": "code",
   "execution_count": 30,
   "metadata": {
    "execution": {
     "iopub.execute_input": "2021-06-11T05:08:45.464022Z",
     "iopub.status.busy": "2021-06-11T05:08:45.458849Z",
     "iopub.status.idle": "2021-06-11T05:08:45.491555Z",
     "shell.execute_reply": "2021-06-11T05:08:45.490996Z"
    },
    "papermill": {
     "duration": 0.088705,
     "end_time": "2021-06-11T05:08:45.491736",
     "exception": false,
     "start_time": "2021-06-11T05:08:45.403031",
     "status": "completed"
    },
    "tags": []
   },
   "outputs": [
    {
     "data": {
      "text/plain": [
       "Index(['Age', 'Education', 'Usage', 'Fitness', 'Income', 'Miles'], dtype='object')"
      ]
     },
     "execution_count": 30,
     "metadata": {},
     "output_type": "execute_result"
    }
   ],
   "source": [
    "df.describe().columns"
   ]
  },
  {
   "cell_type": "code",
   "execution_count": 13,
   "metadata": {
    "execution": {
     "iopub.execute_input": "2021-06-11T05:08:44.704793Z",
     "iopub.status.busy": "2021-06-11T05:08:44.703882Z",
     "iopub.status.idle": "2021-06-11T05:08:44.709680Z",
     "shell.execute_reply": "2021-06-11T05:08:44.708991Z"
    },
    "papermill": {
     "duration": 0.059659,
     "end_time": "2021-06-11T05:08:44.709831",
     "exception": false,
     "start_time": "2021-06-11T05:08:44.650172",
     "status": "completed"
    },
    "tags": []
   },
   "outputs": [
    {
     "data": {
      "text/plain": [
       "Index(['Product', 'Age', 'Gender', 'Education', 'MaritalStatus', 'Usage',\n",
       "       'Fitness', 'Income', 'Miles'],\n",
       "      dtype='object')"
      ]
     },
     "execution_count": 13,
     "metadata": {},
     "output_type": "execute_result"
    }
   ],
   "source": [
    "df.columns"
   ]
  },
  {
   "cell_type": "code",
   "execution_count": 14,
   "metadata": {
    "execution": {
     "iopub.execute_input": "2021-06-11T05:08:44.816759Z",
     "iopub.status.busy": "2021-06-11T05:08:44.816096Z",
     "iopub.status.idle": "2021-06-11T05:08:44.820323Z",
     "shell.execute_reply": "2021-06-11T05:08:44.820816Z"
    },
    "papermill": {
     "duration": 0.062829,
     "end_time": "2021-06-11T05:08:44.820997",
     "exception": false,
     "start_time": "2021-06-11T05:08:44.758168",
     "status": "completed"
    },
    "tags": []
   },
   "outputs": [
    {
     "data": {
      "text/plain": [
       "Product          0\n",
       "Age              0\n",
       "Gender           0\n",
       "Education        0\n",
       "MaritalStatus    0\n",
       "Usage            0\n",
       "Fitness          0\n",
       "Income           0\n",
       "Miles            0\n",
       "dtype: int64"
      ]
     },
     "execution_count": 14,
     "metadata": {},
     "output_type": "execute_result"
    }
   ],
   "source": [
    "df.isnull().sum()"
   ]
  },
  {
   "cell_type": "code",
   "execution_count": 15,
   "metadata": {
    "execution": {
     "iopub.execute_input": "2021-06-11T05:08:44.930318Z",
     "iopub.status.busy": "2021-06-11T05:08:44.929391Z",
     "iopub.status.idle": "2021-06-11T05:08:44.934470Z",
     "shell.execute_reply": "2021-06-11T05:08:44.933942Z"
    },
    "papermill": {
     "duration": 0.06467,
     "end_time": "2021-06-11T05:08:44.934613",
     "exception": false,
     "start_time": "2021-06-11T05:08:44.869943",
     "status": "completed"
    },
    "tags": []
   },
   "outputs": [
    {
     "data": {
      "text/plain": [
       "0"
      ]
     },
     "execution_count": 15,
     "metadata": {},
     "output_type": "execute_result"
    }
   ],
   "source": [
    "df.duplicated().sum()"
   ]
  },
  {
   "cell_type": "markdown",
   "metadata": {},
   "source": [
    "There is no missing and duplicate values in given Data"
   ]
  },
  {
   "cell_type": "markdown",
   "metadata": {},
   "source": [
    "## Unique Values"
   ]
  },
  {
   "cell_type": "code",
   "execution_count": 38,
   "metadata": {
    "execution": {
     "iopub.execute_input": "2021-06-11T05:08:45.242807Z",
     "iopub.status.busy": "2021-06-11T05:08:45.241764Z",
     "iopub.status.idle": "2021-06-11T05:08:45.246964Z",
     "shell.execute_reply": "2021-06-11T05:08:45.247536Z"
    },
    "papermill": {
     "duration": 0.066079,
     "end_time": "2021-06-11T05:08:45.247713",
     "exception": false,
     "start_time": "2021-06-11T05:08:45.181634",
     "status": "completed"
    },
    "tags": []
   },
   "outputs": [
    {
     "name": "stdout",
     "output_type": "stream",
     "text": [
      "Product : ['TM195' 'TM498' 'TM798']\n",
      "Age : [18 19 20 21 22 23 24 25 26 27 28 29 30 31 32 33 34 35 36 37 38 39 40 41\n",
      " 43 44 46 47 50 45 48 42]\n",
      "Gender : ['Male' 'Female']\n",
      "Education : [14 15 12 13 16 18 20 21]\n",
      "MaritalStatus : ['Single' 'Partnered']\n",
      "Usage : [3 2 4 5 6 7]\n",
      "Fitness : [4 3 2 1 5]\n"
     ]
    }
   ],
   "source": [
    "n_colms=df.columns.drop(['Income','Miles'])\n",
    "for col in n_colms: \n",
    "    print('{} : {}'.format(col,df[col].unique()))"
   ]
  },
  {
   "cell_type": "markdown",
   "metadata": {},
   "source": [
    "- only 3 different products\n",
    "- age is in between 18-42\n",
    "- gender is either male or femaile\n",
    "- education is between 12 and 21\n",
    "- either married or single\n",
    "- usage is betwwen 2,7\n",
    "- fitness is in range of 1-5"
   ]
  },
  {
   "cell_type": "code",
   "execution_count": 44,
   "metadata": {
    "execution": {
     "iopub.execute_input": "2021-06-11T05:08:45.707359Z",
     "iopub.status.busy": "2021-06-11T05:08:45.706674Z",
     "iopub.status.idle": "2021-06-11T05:08:45.711462Z",
     "shell.execute_reply": "2021-06-11T05:08:45.710885Z"
    },
    "papermill": {
     "duration": 0.065464,
     "end_time": "2021-06-11T05:08:45.711637",
     "exception": false,
     "start_time": "2021-06-11T05:08:45.646173",
     "status": "completed"
    },
    "tags": []
   },
   "outputs": [
    {
     "data": {
      "image/png": "[encoded data removed]",
      "text/plain": [
       "<Figure size 432x288 with 1 Axes>"
      ]
     },
     "metadata": {
      "needs_background": "light"
     },
     "output_type": "display_data"
    }
   ],
   "source": [
    "sns.countplot(x=df.Product);"
   ]
  },
  {
   "cell_type": "markdown",
   "metadata": {
    "papermill": {
     "duration": 0.052407,
     "end_time": "2021-06-11T05:08:45.815872",
     "exception": false,
     "start_time": "2021-06-11T05:08:45.763465",
     "status": "completed"
    },
    "tags": []
   },
   "source": [
    "TM195 treadmill model is most sold model."
   ]
  },
  {
   "cell_type": "code",
   "execution_count": 46,
   "metadata": {
    "execution": {
     "iopub.execute_input": "2021-06-11T05:08:45.929223Z",
     "iopub.status.busy": "2021-06-11T05:08:45.928525Z",
     "iopub.status.idle": "2021-06-11T05:08:45.931683Z",
     "shell.execute_reply": "2021-06-11T05:08:45.932168Z"
    },
    "papermill": {
     "duration": 0.063398,
     "end_time": "2021-06-11T05:08:45.932384",
     "exception": false,
     "start_time": "2021-06-11T05:08:45.868986",
     "status": "completed"
    },
    "tags": []
   },
   "outputs": [
    {
     "data": {
      "text/plain": [
       "Male      104\n",
       "Female     76\n",
       "Name: Gender, dtype: int64"
      ]
     },
     "execution_count": 46,
     "metadata": {},
     "output_type": "execute_result"
    }
   ],
   "source": [
    "df.Gender.value_counts()"
   ]
  },
  {
   "cell_type": "code",
   "execution_count": 48,
   "metadata": {
    "execution": {
     "iopub.execute_input": "2021-06-11T05:08:46.147386Z",
     "iopub.status.busy": "2021-06-11T05:08:46.146668Z",
     "iopub.status.idle": "2021-06-11T05:08:46.153155Z",
     "shell.execute_reply": "2021-06-11T05:08:46.153682Z"
    },
    "papermill": {
     "duration": 0.063427,
     "end_time": "2021-06-11T05:08:46.153894",
     "exception": false,
     "start_time": "2021-06-11T05:08:46.090467",
     "status": "completed"
    },
    "tags": []
   },
   "outputs": [
    {
     "data": {
      "text/plain": [
       "Partnered    107\n",
       "Single        73\n",
       "Name: MaritalStatus, dtype: int64"
      ]
     },
     "execution_count": 48,
     "metadata": {},
     "output_type": "execute_result"
    }
   ],
   "source": [
    "df.MaritalStatus.value_counts()"
   ]
  },
  {
   "cell_type": "code",
   "execution_count": 57,
   "metadata": {},
   "outputs": [
    {
     "data": {
      "text/plain": [
       "<AxesSubplot:>"
      ]
     },
     "execution_count": 57,
     "metadata": {},
     "output_type": "execute_result"
    },
    {
     "data": {
      "image/png": "[encoded data removed]",
      "text/plain": [
       "<Figure size 576x504 with 2 Axes>"
      ]
     },
     "metadata": {
      "needs_background": "light"
     },
     "output_type": "display_data"
    }
   ],
   "source": [
    "plt.figure(figsize=(8,7))\n",
    "sns.heatmap(df.corr(), annot=True) "
   ]
  },
  {
   "cell_type": "code",
   "execution_count": 61,
   "metadata": {},
   "outputs": [
    {
     "data": {
      "text/plain": [
       "<seaborn.axisgrid.FacetGrid at 0x1b8ed091fa0>"
      ]
     },
     "execution_count": 61,
     "metadata": {},
     "output_type": "execute_result"
    },
    {
     "data": {
      "image/png": "[encoded data removed]",
      "text/plain": [
       "<Figure size 360x360 with 1 Axes>"
      ]
     },
     "metadata": {
      "needs_background": "light"
     },
     "output_type": "display_data"
    }
   ],
   "source": [
    "sns.catplot(x='Fitness',y='Miles',data=df)"
   ]
  },
  {
   "cell_type": "code",
   "execution_count": 62,
   "metadata": {},
   "outputs": [
    {
     "data": {
      "text/plain": [
       "<seaborn.axisgrid.FacetGrid at 0x1b8eb7d3670>"
      ]
     },
     "execution_count": 62,
     "metadata": {},
     "output_type": "execute_result"
    },
    {
     "data": {
      "image/png": "[encoded data removed]",
      "text/plain": [
       "<Figure size 360x360 with 1 Axes>"
      ]
     },
     "metadata": {
      "needs_background": "light"
     },
     "output_type": "display_data"
    }
   ],
   "source": [
    "sns.catplot(x='Gender',y='Miles',data=df)"
   ]
  },
  {
   "cell_type": "markdown",
   "metadata": {},
   "source": [
    "Males are doing more Miles than Female\n"
   ]
  },
  {
   "cell_type": "code",
   "execution_count": 65,
   "metadata": {},
   "outputs": [
    {
     "data": {
      "text/plain": [
       "<seaborn.axisgrid.FacetGrid at 0x1b8f06c3070>"
      ]
     },
     "execution_count": 65,
     "metadata": {},
     "output_type": "execute_result"
    },
    {
     "data": {
      "image/png": "[encoded data removed]",
      "text/plain": [
       "<Figure size 432.125x360 with 1 Axes>"
      ]
     },
     "metadata": {
      "needs_background": "light"
     },
     "output_type": "display_data"
    }
   ],
   "source": [
    "sns.catplot(hue='Gender',x='Usage',y='Miles',data=df)"
   ]
  },
  {
   "cell_type": "code",
   "execution_count": 76,
   "metadata": {},
   "outputs": [],
   "source": [
    "from pandas_profiling import ProfileReport"
   ]
  },
  {
   "cell_type": "code",
   "execution_count": 82,
   "metadata": {},
   "outputs": [],
   "source": [
    "pp = ProfileReport(df)"
   ]
  },
  {
   "cell_type": "markdown",
   "metadata": {},
   "source": [
    "THANKS"
   ]
  },
  {
   "cell_type": "code",
   "execution_count": null,
   "metadata": {},
   "outputs": [],
   "source": []
  }
 ],
 "metadata": {
  "kernelspec": {
   "display_name": "Python 3 (ipykernel)",
   "language": "python",
   "name": "python3"
  },
  "language_info": {
   "codemirror_mode": {
    "name": "ipython",
    "version": 3
   },
   "file_extension": ".py",
   "mimetype": "text/x-python",
   "name": "python",
   "nbconvert_exporter": "python",
   "pygments_lexer": "ipython3",
   "version": "3.9.7"
  },
  "papermill": {
   "default_parameters": {},
   "duration": 39.695956,
   "end_time": "2021-06-11T05:09:15.400733",
   "environment_variables": {},
   "exception": null,
   "input_path": "__notebook__.ipynb",
   "output_path": "__notebook__.ipynb",
   "parameters": {},
   "start_time": "2021-06-11T05:08:35.704777",
   "version": "2.2.2"
  }
 },
 "nbformat": 4,
 "nbformat_minor": 4
}
