{
 "cells": [
  {
   "cell_type": "code",
   "execution_count": 1,
   "id": "559eec15",
   "metadata": {},
   "outputs": [],
   "source": [
    "import numpy as np\n",
    "import matplotlib.pyplot as plt\n",
    "import pandas as pd\n",
    "import seaborn as sns\n",
    "%matplotlib inline"
   ]
  },
  {
   "cell_type": "code",
   "execution_count": 2,
   "id": "2016c8fe",
   "metadata": {},
   "outputs": [],
   "source": [
    "df = pd.read_excel('../DATA/Test for Data analysis and presentation.xlsx',header=1)"
   ]
  },
  {
   "cell_type": "code",
   "execution_count": 3,
   "id": "a69ed964",
   "metadata": {
    "collapsed": true
   },
   "outputs": [
    {
     "data": {
      "text/html": [
       "<div>\n",
       "<style scoped>\n",
       "    .dataframe tbody tr th:only-of-type {\n",
       "        vertical-align: middle;\n",
       "    }\n",
       "\n",
       "    .dataframe tbody tr th {\n",
       "        vertical-align: top;\n",
       "    }\n",
       "\n",
       "    .dataframe thead th {\n",
       "        text-align: right;\n",
       "    }\n",
       "</style>\n",
       "<table border=\"1\" class=\"dataframe\">\n",
       "  <thead>\n",
       "    <tr style=\"text-align: right;\">\n",
       "      <th></th>\n",
       "      <th>Sr. No.</th>\n",
       "      <th>Country Names</th>\n",
       "      <th>Students Names</th>\n",
       "      <th>Marks</th>\n",
       "      <th>Subjects</th>\n",
       "      <th>Campus Placements</th>\n",
       "      <th>Salary CTC (USD)</th>\n",
       "      <th>University</th>\n",
       "    </tr>\n",
       "  </thead>\n",
       "  <tbody>\n",
       "    <tr>\n",
       "      <th>0</th>\n",
       "      <td>6</td>\n",
       "      <td>Albania</td>\n",
       "      <td>GARGI</td>\n",
       "      <td>94</td>\n",
       "      <td>English</td>\n",
       "      <td>Allianz</td>\n",
       "      <td>400000.000000</td>\n",
       "      <td>Harward</td>\n",
       "    </tr>\n",
       "    <tr>\n",
       "      <th>1</th>\n",
       "      <td>10</td>\n",
       "      <td>Albania</td>\n",
       "      <td>MADHU</td>\n",
       "      <td>98</td>\n",
       "      <td>Mathematics</td>\n",
       "      <td>Chevron</td>\n",
       "      <td>440000.000000</td>\n",
       "      <td>UCLA, Berkley</td>\n",
       "    </tr>\n",
       "    <tr>\n",
       "      <th>2</th>\n",
       "      <td>1</td>\n",
       "      <td>Albania</td>\n",
       "      <td>TEJAS</td>\n",
       "      <td>98</td>\n",
       "      <td>English</td>\n",
       "      <td>Walmart</td>\n",
       "      <td>533333.333333</td>\n",
       "      <td>Harward</td>\n",
       "    </tr>\n",
       "    <tr>\n",
       "      <th>3</th>\n",
       "      <td>4</td>\n",
       "      <td>Albania</td>\n",
       "      <td>RUCHI</td>\n",
       "      <td>95</td>\n",
       "      <td>Physics</td>\n",
       "      <td>Mitsubishi Motors</td>\n",
       "      <td>280000.000000</td>\n",
       "      <td>UCLA, Berkley</td>\n",
       "    </tr>\n",
       "    <tr>\n",
       "      <th>4</th>\n",
       "      <td>13</td>\n",
       "      <td>Algeria</td>\n",
       "      <td>MANISH</td>\n",
       "      <td>95</td>\n",
       "      <td>Biology</td>\n",
       "      <td>Alphabet</td>\n",
       "      <td>333333.333333</td>\n",
       "      <td>MIT</td>\n",
       "    </tr>\n",
       "    <tr>\n",
       "      <th>...</th>\n",
       "      <td>...</td>\n",
       "      <td>...</td>\n",
       "      <td>...</td>\n",
       "      <td>...</td>\n",
       "      <td>...</td>\n",
       "      <td>...</td>\n",
       "      <td>...</td>\n",
       "      <td>...</td>\n",
       "    </tr>\n",
       "    <tr>\n",
       "      <th>495</th>\n",
       "      <td>186</td>\n",
       "      <td>Zimbabwe</td>\n",
       "      <td>VIDHYA</td>\n",
       "      <td>95</td>\n",
       "      <td>Physics</td>\n",
       "      <td>Samsung</td>\n",
       "      <td>440000.000000</td>\n",
       "      <td>MIT</td>\n",
       "    </tr>\n",
       "    <tr>\n",
       "      <th>496</th>\n",
       "      <td>194</td>\n",
       "      <td>Zimbabwe</td>\n",
       "      <td>TEJASWINI</td>\n",
       "      <td>98</td>\n",
       "      <td>Mathematics</td>\n",
       "      <td>Saudi Aramco</td>\n",
       "      <td>160000.000000</td>\n",
       "      <td>Arizona</td>\n",
       "    </tr>\n",
       "    <tr>\n",
       "      <th>497</th>\n",
       "      <td>195</td>\n",
       "      <td>Zimbabwe</td>\n",
       "      <td>CHANDRAKANT</td>\n",
       "      <td>98</td>\n",
       "      <td>Mathematics</td>\n",
       "      <td>Shell</td>\n",
       "      <td>440000.000000</td>\n",
       "      <td>UCLA, Berkley</td>\n",
       "    </tr>\n",
       "    <tr>\n",
       "      <th>498</th>\n",
       "      <td>196</td>\n",
       "      <td>Zimbabwe</td>\n",
       "      <td>DIPAK</td>\n",
       "      <td>98</td>\n",
       "      <td>Mathematics</td>\n",
       "      <td>State Grid</td>\n",
       "      <td>366666.666667</td>\n",
       "      <td>MIT</td>\n",
       "    </tr>\n",
       "    <tr>\n",
       "      <th>499</th>\n",
       "      <td>197</td>\n",
       "      <td>Zimbabwe</td>\n",
       "      <td>NANDU</td>\n",
       "      <td>91</td>\n",
       "      <td>Mathematics</td>\n",
       "      <td>Sinopec Group</td>\n",
       "      <td>466666.666667</td>\n",
       "      <td>MIT</td>\n",
       "    </tr>\n",
       "  </tbody>\n",
       "</table>\n",
       "<p>500 rows × 8 columns</p>\n",
       "</div>"
      ],
      "text/plain": [
       "     Sr. No. Country Names Students Names  Marks     Subjects  \\\n",
       "0          6       Albania          GARGI     94      English   \n",
       "1         10       Albania          MADHU     98  Mathematics   \n",
       "2          1       Albania          TEJAS     98      English   \n",
       "3          4       Albania          RUCHI     95      Physics   \n",
       "4         13       Algeria         MANISH     95      Biology   \n",
       "..       ...           ...            ...    ...          ...   \n",
       "495      186      Zimbabwe         VIDHYA     95      Physics   \n",
       "496      194      Zimbabwe      TEJASWINI     98  Mathematics   \n",
       "497      195      Zimbabwe    CHANDRAKANT     98  Mathematics   \n",
       "498      196      Zimbabwe          DIPAK     98  Mathematics   \n",
       "499      197      Zimbabwe          NANDU     91  Mathematics   \n",
       "\n",
       "     Campus Placements  Salary CTC (USD)     University  \n",
       "0              Allianz     400000.000000        Harward  \n",
       "1              Chevron     440000.000000  UCLA, Berkley  \n",
       "2              Walmart     533333.333333        Harward  \n",
       "3    Mitsubishi Motors     280000.000000  UCLA, Berkley  \n",
       "4             Alphabet     333333.333333            MIT  \n",
       "..                 ...               ...            ...  \n",
       "495            Samsung     440000.000000            MIT  \n",
       "496       Saudi Aramco     160000.000000        Arizona  \n",
       "497              Shell     440000.000000  UCLA, Berkley  \n",
       "498         State Grid     366666.666667            MIT  \n",
       "499      Sinopec Group     466666.666667            MIT  \n",
       "\n",
       "[500 rows x 8 columns]"
      ]
     },
     "execution_count": 3,
     "metadata": {},
     "output_type": "execute_result"
    }
   ],
   "source": [
    "df"
   ]
  },
  {
   "cell_type": "code",
   "execution_count": 7,
   "id": "dd5ba6d6",
   "metadata": {},
   "outputs": [
    {
     "data": {
      "text/html": [
       "<div>\n",
       "<style scoped>\n",
       "    .dataframe tbody tr th:only-of-type {\n",
       "        vertical-align: middle;\n",
       "    }\n",
       "\n",
       "    .dataframe tbody tr th {\n",
       "        vertical-align: top;\n",
       "    }\n",
       "\n",
       "    .dataframe thead th {\n",
       "        text-align: right;\n",
       "    }\n",
       "</style>\n",
       "<table border=\"1\" class=\"dataframe\">\n",
       "  <thead>\n",
       "    <tr style=\"text-align: right;\">\n",
       "      <th></th>\n",
       "      <th>count</th>\n",
       "      <th>mean</th>\n",
       "      <th>std</th>\n",
       "      <th>min</th>\n",
       "      <th>25%</th>\n",
       "      <th>50%</th>\n",
       "      <th>75%</th>\n",
       "      <th>max</th>\n",
       "    </tr>\n",
       "  </thead>\n",
       "  <tbody>\n",
       "    <tr>\n",
       "      <th>Sr. No.</th>\n",
       "      <td>500.0</td>\n",
       "      <td>250.500000</td>\n",
       "      <td>144.481833</td>\n",
       "      <td>1.000000</td>\n",
       "      <td>125.75</td>\n",
       "      <td>250.500000</td>\n",
       "      <td>375.25</td>\n",
       "      <td>500.000000</td>\n",
       "    </tr>\n",
       "    <tr>\n",
       "      <th>Marks</th>\n",
       "      <td>500.0</td>\n",
       "      <td>95.230000</td>\n",
       "      <td>2.420085</td>\n",
       "      <td>90.000000</td>\n",
       "      <td>94.00</td>\n",
       "      <td>96.000000</td>\n",
       "      <td>97.00</td>\n",
       "      <td>99.000000</td>\n",
       "    </tr>\n",
       "    <tr>\n",
       "      <th>Salary CTC (USD)</th>\n",
       "      <td>500.0</td>\n",
       "      <td>358066.666667</td>\n",
       "      <td>108603.388800</td>\n",
       "      <td>133333.333333</td>\n",
       "      <td>280000.00</td>\n",
       "      <td>373333.333333</td>\n",
       "      <td>440000.00</td>\n",
       "      <td>533333.333333</td>\n",
       "    </tr>\n",
       "  </tbody>\n",
       "</table>\n",
       "</div>"
      ],
      "text/plain": [
       "                  count           mean            std            min  \\\n",
       "Sr. No.           500.0     250.500000     144.481833       1.000000   \n",
       "Marks             500.0      95.230000       2.420085      90.000000   \n",
       "Salary CTC (USD)  500.0  358066.666667  108603.388800  133333.333333   \n",
       "\n",
       "                        25%            50%        75%            max  \n",
       "Sr. No.              125.75     250.500000     375.25     500.000000  \n",
       "Marks                 94.00      96.000000      97.00      99.000000  \n",
       "Salary CTC (USD)  280000.00  373333.333333  440000.00  533333.333333  "
      ]
     },
     "execution_count": 7,
     "metadata": {},
     "output_type": "execute_result"
    }
   ],
   "source": [
    "df.describe().transpose()"
   ]
  },
  {
   "cell_type": "code",
   "execution_count": 8,
   "id": "35aed6af",
   "metadata": {},
   "outputs": [
    {
     "name": "stdout",
     "output_type": "stream",
     "text": [
      "<class 'pandas.core.frame.DataFrame'>\n",
      "RangeIndex: 500 entries, 0 to 499\n",
      "Data columns (total 8 columns):\n",
      " #   Column             Non-Null Count  Dtype  \n",
      "---  ------             --------------  -----  \n",
      " 0   Sr. No.            500 non-null    int64  \n",
      " 1   Country Names      500 non-null    object \n",
      " 2   Students Names     500 non-null    object \n",
      " 3   Marks              500 non-null    int64  \n",
      " 4   Subjects           500 non-null    object \n",
      " 5   Campus Placements  500 non-null    object \n",
      " 6   Salary CTC (USD)   500 non-null    float64\n",
      " 7   University         500 non-null    object \n",
      "dtypes: float64(1), int64(2), object(5)\n",
      "memory usage: 31.4+ KB\n"
     ]
    }
   ],
   "source": [
    "df.info()"
   ]
  },
  {
   "cell_type": "code",
   "execution_count": 9,
   "id": "efd62110",
   "metadata": {},
   "outputs": [
    {
     "data": {
      "text/html": [
       "<div>\n",
       "<style scoped>\n",
       "    .dataframe tbody tr th:only-of-type {\n",
       "        vertical-align: middle;\n",
       "    }\n",
       "\n",
       "    .dataframe tbody tr th {\n",
       "        vertical-align: top;\n",
       "    }\n",
       "\n",
       "    .dataframe thead th {\n",
       "        text-align: right;\n",
       "    }\n",
       "</style>\n",
       "<table border=\"1\" class=\"dataframe\">\n",
       "  <thead>\n",
       "    <tr style=\"text-align: right;\">\n",
       "      <th></th>\n",
       "      <th>Sr. No.</th>\n",
       "      <th>Country Names</th>\n",
       "      <th>Students Names</th>\n",
       "      <th>Marks</th>\n",
       "      <th>Subjects</th>\n",
       "      <th>Campus Placements</th>\n",
       "      <th>Salary CTC (USD)</th>\n",
       "      <th>University</th>\n",
       "    </tr>\n",
       "  </thead>\n",
       "  <tbody>\n",
       "  </tbody>\n",
       "</table>\n",
       "</div>"
      ],
      "text/plain": [
       "Empty DataFrame\n",
       "Columns: [Sr. No., Country Names, Students Names, Marks, Subjects, Campus Placements, Salary CTC (USD), University]\n",
       "Index: []"
      ]
     },
     "execution_count": 9,
     "metadata": {},
     "output_type": "execute_result"
    }
   ],
   "source": [
    "df[df.duplicated()]"
   ]
  },
  {
   "cell_type": "code",
   "execution_count": 10,
   "id": "7bcc28a6",
   "metadata": {},
   "outputs": [
    {
     "data": {
      "text/plain": [
       "UCLA, Berkley    126\n",
       "MIT              120\n",
       "Harward           68\n",
       "UM Armhest        56\n",
       "Stanford          36\n",
       "Arizona           25\n",
       "Penn State        20\n",
       "UC Davis          19\n",
       "ICL               16\n",
       "Manchester        14\n",
       "Name: University, dtype: int64"
      ]
     },
     "execution_count": 10,
     "metadata": {},
     "output_type": "execute_result"
    }
   ],
   "source": [
    "df.University.value_counts()"
   ]
  },
  {
   "cell_type": "code",
   "execution_count": 16,
   "id": "2a0e11f7",
   "metadata": {},
   "outputs": [
    {
     "data": {
      "image/png": "[encoded data removed]",
      "text/plain": [
       "<Figure size 432x288 with 1 Axes>"
      ]
     },
     "metadata": {
      "needs_background": "light"
     },
     "output_type": "display_data"
    }
   ],
   "source": [
    "sns.countplot(x=df.University)\n",
    "y = plt.xticks(rotation=90)"
   ]
  },
  {
   "cell_type": "code",
   "execution_count": 18,
   "id": "ed0a7295",
   "metadata": {},
   "outputs": [
    {
     "data": {
      "image/png": "[encoded data removed]",
      "text/plain": [
       "<Figure size 432x288 with 1 Axes>"
      ]
     },
     "metadata": {
      "needs_background": "light"
     },
     "output_type": "display_data"
    }
   ],
   "source": [
    "sns.histplot(x=df.University,kde=True)\n",
    "j = plt.xticks(rotation=60)"
   ]
  },
  {
   "cell_type": "markdown",
   "id": "9adfd837",
   "metadata": {},
   "source": [
    "## Jobs by univesrity for every subjects"
   ]
  },
  {
   "cell_type": "code",
   "execution_count": 37,
   "id": "80b9260a",
   "metadata": {},
   "outputs": [
    {
     "data": {
      "image/png": "[encoded data removed]",
      "text/plain": [
       "<Figure size 720x432 with 1 Axes>"
      ]
     },
     "metadata": {
      "needs_background": "light"
     },
     "output_type": "display_data"
    }
   ],
   "source": [
    "plt.figure(figsize=(10,6))\n",
    "sns.countplot(hue=df['Subjects'],x=df['University'])\n",
    "j=plt.xticks(rotation=60)\n",
    "plt.legend(bbox_to_anchor=(1, 1), loc='upper left')\n",
    "m =plt.title('cont of subjects by unvesrity')"
   ]
  },
  {
   "cell_type": "markdown",
   "id": "e92daf9d",
   "metadata": {},
   "source": [
    "   ## Distubution of salary"
   ]
  },
  {
   "cell_type": "code",
   "execution_count": 39,
   "id": "a610cfff",
   "metadata": {},
   "outputs": [
    {
     "data": {
      "image/png": "[encoded data removed]",
      "text/plain": [
       "<Figure size 360x360 with 1 Axes>"
      ]
     },
     "metadata": {
      "needs_background": "light"
     },
     "output_type": "display_data"
    }
   ],
   "source": [
    "sns.displot(x=df['Salary CTC (USD)'])\n",
    "xt = plt.xticks(rotation=60)"
   ]
  },
  {
   "cell_type": "markdown",
   "id": "75b9e75a",
   "metadata": {},
   "source": [
    "## range of CTC by university"
   ]
  },
  {
   "cell_type": "code",
   "execution_count": 9,
   "id": "d3bcc444",
   "metadata": {},
   "outputs": [
    {
     "data": {
      "text/plain": [
       "Text(0.5, 1.0, 'range of salary by university')"
      ]
     },
     "execution_count": 9,
     "metadata": {},
     "output_type": "execute_result"
    },
    {
     "data": {
      "image/png": "[encoded data removed]",
      "text/plain": [
       "<Figure size 720x360 with 1 Axes>"
      ]
     },
     "metadata": {
      "needs_background": "light"
     },
     "output_type": "display_data"
    }
   ],
   "source": [
    "plt.figure(figsize=(10,5))\n",
    "sns.boxplot(y=df['Salary CTC (USD)'],x=df['University'])\n",
    "plt.xticks(rotation=60)\n",
    "plt.title('range of salary by university')"
   ]
  },
  {
   "cell_type": "markdown",
   "id": "91bdba4d",
   "metadata": {},
   "source": [
    "# MARKS FOR ENTERING THE UNVERSITY"
   ]
  },
  {
   "cell_type": "code",
   "execution_count": 10,
   "id": "23781c23",
   "metadata": {},
   "outputs": [
    {
     "data": {
      "text/plain": [
       "Text(0.5, 1.0, 'range of salary by university')"
      ]
     },
     "execution_count": 10,
     "metadata": {},
     "output_type": "execute_result"
    },
    {
     "data": {
      "image/png": "[encoded data removed]",
      "text/plain": [
       "<Figure size 720x360 with 1 Axes>"
      ]
     },
     "metadata": {
      "needs_background": "light"
     },
     "output_type": "display_data"
    }
   ],
   "source": [
    "plt.figure(figsize=(10,5))\n",
    "sns.boxplot(y=df['Marks'],x=df['University'])\n",
    "plt.xticks(rotation=60)\n",
    "plt.title('range of salary by university')"
   ]
  },
  {
   "cell_type": "markdown",
   "id": "10ddb571",
   "metadata": {},
   "source": [
    "# SALARY RANGE BY MARKS"
   ]
  },
  {
   "cell_type": "code",
   "execution_count": 17,
   "id": "b991de88",
   "metadata": {},
   "outputs": [
    {
     "data": {
      "text/plain": [
       "Text(0.5, 1.0, 'range of salary by MARKS')"
      ]
     },
     "execution_count": 17,
     "metadata": {},
     "output_type": "execute_result"
    },
    {
     "data": {
      "image/png": "[encoded data removed]",
      "text/plain": [
       "<Figure size 720x360 with 1 Axes>"
      ]
     },
     "metadata": {
      "needs_background": "light"
     },
     "output_type": "display_data"
    }
   ],
   "source": [
    "plt.figure(figsize=(10,5))\n",
    "sns.boxplot(x=df['Marks'],y=df['Salary CTC (USD)'])\n",
    "plt.xticks(rotation=60)\n",
    "plt.title('range of salary by MARKS')"
   ]
  },
  {
   "cell_type": "code",
   "execution_count": 19,
   "id": "02fb5789",
   "metadata": {},
   "outputs": [
    {
     "data": {
      "text/plain": [
       "Index(['Sr. No.', 'Country Names', 'Students Names', 'Marks', 'Subjects',\n",
       "       'Campus Placements', 'Salary CTC (USD)', 'University'],\n",
       "      dtype='object')"
      ]
     },
     "execution_count": 19,
     "metadata": {},
     "output_type": "execute_result"
    }
   ],
   "source": [
    "df.columns"
   ]
  },
  {
   "cell_type": "markdown",
   "id": "d0969432",
   "metadata": {},
   "source": [
    "## TOP 5 COUNTRYS WITH HIGH AND LOW CTC"
   ]
  },
  {
   "cell_type": "code",
   "execution_count": 41,
   "id": "f06532b9",
   "metadata": {
    "collapsed": true
   },
   "outputs": [
    {
     "data": {
      "text/html": [
       "<div>\n",
       "<style scoped>\n",
       "    .dataframe tbody tr th:only-of-type {\n",
       "        vertical-align: middle;\n",
       "    }\n",
       "\n",
       "    .dataframe tbody tr th {\n",
       "        vertical-align: top;\n",
       "    }\n",
       "\n",
       "    .dataframe thead th {\n",
       "        text-align: right;\n",
       "    }\n",
       "</style>\n",
       "<table border=\"1\" class=\"dataframe\">\n",
       "  <thead>\n",
       "    <tr style=\"text-align: right;\">\n",
       "      <th></th>\n",
       "      <th>Sr. No.</th>\n",
       "      <th>Marks</th>\n",
       "      <th>Salary CTC (USD)</th>\n",
       "    </tr>\n",
       "    <tr>\n",
       "      <th>Country Names</th>\n",
       "      <th></th>\n",
       "      <th></th>\n",
       "      <th></th>\n",
       "    </tr>\n",
       "  </thead>\n",
       "  <tbody>\n",
       "    <tr>\n",
       "      <th>Albania</th>\n",
       "      <td>5.250000</td>\n",
       "      <td>96.250000</td>\n",
       "      <td>413333.333333</td>\n",
       "    </tr>\n",
       "    <tr>\n",
       "      <th>Algeria</th>\n",
       "      <td>13.000000</td>\n",
       "      <td>95.000000</td>\n",
       "      <td>333333.333333</td>\n",
       "    </tr>\n",
       "    <tr>\n",
       "      <th>Argentina</th>\n",
       "      <td>21.000000</td>\n",
       "      <td>95.000000</td>\n",
       "      <td>373333.333333</td>\n",
       "    </tr>\n",
       "    <tr>\n",
       "      <th>Armenia</th>\n",
       "      <td>10.000000</td>\n",
       "      <td>90.333333</td>\n",
       "      <td>271111.111111</td>\n",
       "    </tr>\n",
       "    <tr>\n",
       "      <th>Austria</th>\n",
       "      <td>9.000000</td>\n",
       "      <td>98.000000</td>\n",
       "      <td>422222.222222</td>\n",
       "    </tr>\n",
       "    <tr>\n",
       "      <th>...</th>\n",
       "      <td>...</td>\n",
       "      <td>...</td>\n",
       "      <td>...</td>\n",
       "    </tr>\n",
       "    <tr>\n",
       "      <th>Venezuela</th>\n",
       "      <td>378.300000</td>\n",
       "      <td>96.800000</td>\n",
       "      <td>360000.000000</td>\n",
       "    </tr>\n",
       "    <tr>\n",
       "      <th>Vietnam</th>\n",
       "      <td>412.909091</td>\n",
       "      <td>98.636364</td>\n",
       "      <td>360000.000000</td>\n",
       "    </tr>\n",
       "    <tr>\n",
       "      <th>Yemen</th>\n",
       "      <td>472.166667</td>\n",
       "      <td>97.500000</td>\n",
       "      <td>396666.666667</td>\n",
       "    </tr>\n",
       "    <tr>\n",
       "      <th>Zambia</th>\n",
       "      <td>94.285714</td>\n",
       "      <td>94.428571</td>\n",
       "      <td>300952.380952</td>\n",
       "    </tr>\n",
       "    <tr>\n",
       "      <th>Zimbabwe</th>\n",
       "      <td>172.750000</td>\n",
       "      <td>94.416667</td>\n",
       "      <td>360000.000000</td>\n",
       "    </tr>\n",
       "  </tbody>\n",
       "</table>\n",
       "<p>108 rows × 3 columns</p>\n",
       "</div>"
      ],
      "text/plain": [
       "                  Sr. No.      Marks  Salary CTC (USD)\n",
       "Country Names                                         \n",
       "Albania          5.250000  96.250000     413333.333333\n",
       "Algeria         13.000000  95.000000     333333.333333\n",
       "Argentina       21.000000  95.000000     373333.333333\n",
       "Armenia         10.000000  90.333333     271111.111111\n",
       "Austria          9.000000  98.000000     422222.222222\n",
       "...                   ...        ...               ...\n",
       "Venezuela      378.300000  96.800000     360000.000000\n",
       "Vietnam        412.909091  98.636364     360000.000000\n",
       "Yemen          472.166667  97.500000     396666.666667\n",
       "Zambia          94.285714  94.428571     300952.380952\n",
       "Zimbabwe       172.750000  94.416667     360000.000000\n",
       "\n",
       "[108 rows x 3 columns]"
      ]
     },
     "execution_count": 41,
     "metadata": {},
     "output_type": "execute_result"
    }
   ],
   "source": [
    "k =df.groupby(by=['Country Names']).mean()\n",
    "k"
   ]
  },
  {
   "cell_type": "code",
   "execution_count": 44,
   "id": "83345001",
   "metadata": {},
   "outputs": [
    {
     "data": {
      "text/html": [
       "<div>\n",
       "<style scoped>\n",
       "    .dataframe tbody tr th:only-of-type {\n",
       "        vertical-align: middle;\n",
       "    }\n",
       "\n",
       "    .dataframe tbody tr th {\n",
       "        vertical-align: top;\n",
       "    }\n",
       "\n",
       "    .dataframe thead th {\n",
       "        text-align: right;\n",
       "    }\n",
       "</style>\n",
       "<table border=\"1\" class=\"dataframe\">\n",
       "  <thead>\n",
       "    <tr style=\"text-align: right;\">\n",
       "      <th></th>\n",
       "      <th>Salary CTC (USD)</th>\n",
       "    </tr>\n",
       "    <tr>\n",
       "      <th>Country Names</th>\n",
       "      <th></th>\n",
       "    </tr>\n",
       "  </thead>\n",
       "  <tbody>\n",
       "    <tr>\n",
       "      <th>Saint Lucia</th>\n",
       "      <td>480000.000000</td>\n",
       "    </tr>\n",
       "    <tr>\n",
       "      <th>Rwanda</th>\n",
       "      <td>466666.666667</td>\n",
       "    </tr>\n",
       "    <tr>\n",
       "      <th>Colombia</th>\n",
       "      <td>466666.666667</td>\n",
       "    </tr>\n",
       "    <tr>\n",
       "      <th>Indonesia</th>\n",
       "      <td>446666.666667</td>\n",
       "    </tr>\n",
       "    <tr>\n",
       "      <th>Jordan</th>\n",
       "      <td>446666.666667</td>\n",
       "    </tr>\n",
       "    <tr>\n",
       "      <th>...</th>\n",
       "      <td>...</td>\n",
       "    </tr>\n",
       "    <tr>\n",
       "      <th>Fiji</th>\n",
       "      <td>253333.333333</td>\n",
       "    </tr>\n",
       "    <tr>\n",
       "      <th>Gambia</th>\n",
       "      <td>248888.888889</td>\n",
       "    </tr>\n",
       "    <tr>\n",
       "      <th>Ireland</th>\n",
       "      <td>245333.333333</td>\n",
       "    </tr>\n",
       "    <tr>\n",
       "      <th>South Africa</th>\n",
       "      <td>228888.888889</td>\n",
       "    </tr>\n",
       "    <tr>\n",
       "      <th>Laos</th>\n",
       "      <td>217777.777778</td>\n",
       "    </tr>\n",
       "  </tbody>\n",
       "</table>\n",
       "<p>108 rows × 1 columns</p>\n",
       "</div>"
      ],
      "text/plain": [
       "               Salary CTC (USD)\n",
       "Country Names                  \n",
       "Saint Lucia       480000.000000\n",
       "Rwanda            466666.666667\n",
       "Colombia          466666.666667\n",
       "Indonesia         446666.666667\n",
       "Jordan            446666.666667\n",
       "...                         ...\n",
       "Fiji              253333.333333\n",
       "Gambia            248888.888889\n",
       "Ireland           245333.333333\n",
       "South Africa      228888.888889\n",
       "Laos              217777.777778\n",
       "\n",
       "[108 rows x 1 columns]"
      ]
     },
     "execution_count": 44,
     "metadata": {},
     "output_type": "execute_result"
    }
   ],
   "source": [
    "j = k.sort_values(by=['Salary CTC (USD)'],ascending=False)[['Salary CTC (USD)']]\n",
    "j"
   ]
  },
  {
   "cell_type": "code",
   "execution_count": 48,
   "id": "c7691c92",
   "metadata": {},
   "outputs": [
    {
     "data": {
      "text/html": [
       "<div>\n",
       "<style scoped>\n",
       "    .dataframe tbody tr th:only-of-type {\n",
       "        vertical-align: middle;\n",
       "    }\n",
       "\n",
       "    .dataframe tbody tr th {\n",
       "        vertical-align: top;\n",
       "    }\n",
       "\n",
       "    .dataframe thead th {\n",
       "        text-align: right;\n",
       "    }\n",
       "</style>\n",
       "<table border=\"1\" class=\"dataframe\">\n",
       "  <thead>\n",
       "    <tr style=\"text-align: right;\">\n",
       "      <th></th>\n",
       "      <th>Salary CTC (USD)</th>\n",
       "    </tr>\n",
       "    <tr>\n",
       "      <th>Country Names</th>\n",
       "      <th></th>\n",
       "    </tr>\n",
       "  </thead>\n",
       "  <tbody>\n",
       "    <tr>\n",
       "      <th>Saint Lucia</th>\n",
       "      <td>480000.000000</td>\n",
       "    </tr>\n",
       "    <tr>\n",
       "      <th>Rwanda</th>\n",
       "      <td>466666.666667</td>\n",
       "    </tr>\n",
       "    <tr>\n",
       "      <th>Colombia</th>\n",
       "      <td>466666.666667</td>\n",
       "    </tr>\n",
       "    <tr>\n",
       "      <th>Indonesia</th>\n",
       "      <td>446666.666667</td>\n",
       "    </tr>\n",
       "    <tr>\n",
       "      <th>Jordan</th>\n",
       "      <td>446666.666667</td>\n",
       "    </tr>\n",
       "    <tr>\n",
       "      <th>Sudan</th>\n",
       "      <td>444444.444444</td>\n",
       "    </tr>\n",
       "    <tr>\n",
       "      <th>Central African Republic</th>\n",
       "      <td>440000.000000</td>\n",
       "    </tr>\n",
       "    <tr>\n",
       "      <th>United States of America</th>\n",
       "      <td>438333.333333</td>\n",
       "    </tr>\n",
       "    <tr>\n",
       "      <th>Kenya</th>\n",
       "      <td>434666.666667</td>\n",
       "    </tr>\n",
       "    <tr>\n",
       "      <th>Monaco</th>\n",
       "      <td>426666.666667</td>\n",
       "    </tr>\n",
       "  </tbody>\n",
       "</table>\n",
       "</div>"
      ],
      "text/plain": [
       "                          Salary CTC (USD)\n",
       "Country Names                             \n",
       "Saint Lucia                  480000.000000\n",
       "Rwanda                       466666.666667\n",
       "Colombia                     466666.666667\n",
       "Indonesia                    446666.666667\n",
       "Jordan                       446666.666667\n",
       "Sudan                        444444.444444\n",
       "Central African Republic     440000.000000\n",
       "United States of America     438333.333333\n",
       "Kenya                        434666.666667\n",
       "Monaco                       426666.666667"
      ]
     },
     "execution_count": 48,
     "metadata": {},
     "output_type": "execute_result"
    }
   ],
   "source": [
    "j.head(10) #5 higest ctc countries"
   ]
  },
  {
   "cell_type": "code",
   "execution_count": 46,
   "id": "b99a6119",
   "metadata": {},
   "outputs": [
    {
     "data": {
      "text/html": [
       "<div>\n",
       "<style scoped>\n",
       "    .dataframe tbody tr th:only-of-type {\n",
       "        vertical-align: middle;\n",
       "    }\n",
       "\n",
       "    .dataframe tbody tr th {\n",
       "        vertical-align: top;\n",
       "    }\n",
       "\n",
       "    .dataframe thead th {\n",
       "        text-align: right;\n",
       "    }\n",
       "</style>\n",
       "<table border=\"1\" class=\"dataframe\">\n",
       "  <thead>\n",
       "    <tr style=\"text-align: right;\">\n",
       "      <th></th>\n",
       "      <th>Salary CTC (USD)</th>\n",
       "    </tr>\n",
       "    <tr>\n",
       "      <th>Country Names</th>\n",
       "      <th></th>\n",
       "    </tr>\n",
       "  </thead>\n",
       "  <tbody>\n",
       "    <tr>\n",
       "      <th>Fiji</th>\n",
       "      <td>253333.333333</td>\n",
       "    </tr>\n",
       "    <tr>\n",
       "      <th>Gambia</th>\n",
       "      <td>248888.888889</td>\n",
       "    </tr>\n",
       "    <tr>\n",
       "      <th>Ireland</th>\n",
       "      <td>245333.333333</td>\n",
       "    </tr>\n",
       "    <tr>\n",
       "      <th>South Africa</th>\n",
       "      <td>228888.888889</td>\n",
       "    </tr>\n",
       "    <tr>\n",
       "      <th>Laos</th>\n",
       "      <td>217777.777778</td>\n",
       "    </tr>\n",
       "  </tbody>\n",
       "</table>\n",
       "</div>"
      ],
      "text/plain": [
       "               Salary CTC (USD)\n",
       "Country Names                  \n",
       "Fiji              253333.333333\n",
       "Gambia            248888.888889\n",
       "Ireland           245333.333333\n",
       "South Africa      228888.888889\n",
       "Laos              217777.777778"
      ]
     },
     "execution_count": 46,
     "metadata": {},
     "output_type": "execute_result"
    }
   ],
   "source": [
    "j.tail() #5 lowest ctc countries"
   ]
  },
  {
   "cell_type": "markdown",
   "id": "f76cfd0b",
   "metadata": {},
   "source": [
    "# AVERAGE CTC OF EACH SUBJECT"
   ]
  },
  {
   "cell_type": "code",
   "execution_count": 26,
   "id": "e2715c8f",
   "metadata": {},
   "outputs": [],
   "source": [
    "m =df.groupby(by='Subjects').mean()\n",
    "n = m.sort_values(by=['Salary CTC (USD)'],ascending=False)[['Salary CTC (USD)']]"
   ]
  },
  {
   "cell_type": "code",
   "execution_count": 27,
   "id": "37166e87",
   "metadata": {},
   "outputs": [
    {
     "data": {
      "text/html": [
       "<div>\n",
       "<style scoped>\n",
       "    .dataframe tbody tr th:only-of-type {\n",
       "        vertical-align: middle;\n",
       "    }\n",
       "\n",
       "    .dataframe tbody tr th {\n",
       "        vertical-align: top;\n",
       "    }\n",
       "\n",
       "    .dataframe thead th {\n",
       "        text-align: right;\n",
       "    }\n",
       "</style>\n",
       "<table border=\"1\" class=\"dataframe\">\n",
       "  <thead>\n",
       "    <tr style=\"text-align: right;\">\n",
       "      <th></th>\n",
       "      <th>Salary CTC (USD)</th>\n",
       "    </tr>\n",
       "    <tr>\n",
       "      <th>Subjects</th>\n",
       "      <th></th>\n",
       "    </tr>\n",
       "  </thead>\n",
       "  <tbody>\n",
       "    <tr>\n",
       "      <th>Computer Science</th>\n",
       "      <td>375750.000000</td>\n",
       "    </tr>\n",
       "    <tr>\n",
       "      <th>Physics</th>\n",
       "      <td>366462.585034</td>\n",
       "    </tr>\n",
       "    <tr>\n",
       "      <th>English</th>\n",
       "      <td>366021.505376</td>\n",
       "    </tr>\n",
       "    <tr>\n",
       "      <th>Chemistry</th>\n",
       "      <td>352575.757576</td>\n",
       "    </tr>\n",
       "    <tr>\n",
       "      <th>Biology</th>\n",
       "      <td>350638.297872</td>\n",
       "    </tr>\n",
       "    <tr>\n",
       "      <th>Statistics</th>\n",
       "      <td>344567.901235</td>\n",
       "    </tr>\n",
       "    <tr>\n",
       "      <th>Mathematics</th>\n",
       "      <td>341596.244131</td>\n",
       "    </tr>\n",
       "  </tbody>\n",
       "</table>\n",
       "</div>"
      ],
      "text/plain": [
       "                  Salary CTC (USD)\n",
       "Subjects                          \n",
       "Computer Science     375750.000000\n",
       "Physics              366462.585034\n",
       "English              366021.505376\n",
       "Chemistry            352575.757576\n",
       "Biology              350638.297872\n",
       "Statistics           344567.901235\n",
       "Mathematics          341596.244131"
      ]
     },
     "execution_count": 27,
     "metadata": {},
     "output_type": "execute_result"
    }
   ],
   "source": [
    "n"
   ]
  },
  {
   "cell_type": "markdown",
   "id": "dd0df864",
   "metadata": {},
   "source": [
    "# TOP 5 BEST COUNTRYS BY SUBJECTS"
   ]
  },
  {
   "cell_type": "code",
   "execution_count": 97,
   "id": "1caa0197",
   "metadata": {},
   "outputs": [],
   "source": [
    "m =df.groupby(by=['Subjects','Country Names']).mean()\n",
    "n = m.sort_values(by=['Salary CTC (USD)'],ascending=False)"
   ]
  },
  {
   "cell_type": "code",
   "execution_count": 98,
   "id": "4be8c178",
   "metadata": {},
   "outputs": [
    {
     "data": {
      "text/plain": [
       "FrozenList([['Biology', 'Chemistry', 'Computer Science', 'English', 'Mathematics', 'Physics', 'Statistics'], ['Albania', 'Algeria', 'Argentina', 'Armenia', 'Austria', 'Bahamas', 'Bangladesh', 'Belarus', 'Belgium', 'Cabo Verde', 'Canada', 'Central African Republic', 'China', 'Colombia', 'Egypt', 'Estonia', 'Fiji', 'Finland', 'Gambia', 'Georgia', 'Ghana', 'Greece', 'Grenada', 'Guatemala', 'Guinea', 'Hungary', 'Iceland', 'India', 'Indonesia', 'Iran', 'Iraq', 'Ireland', 'Israel', 'Italy', 'Jamaica', 'Japan', 'Jordan', 'Kazakhstan', 'Kenya', 'Kiribati', 'Kuwait', 'Kyrgyzstan', 'Laos', 'Libya', 'Maldives', 'Malta', 'Mauritius', 'Mexico', 'Monaco', 'Mongolia', 'Namibia', 'Nepal', 'Netherlands', 'New Zealand', 'Niger', 'Nigeria', 'North Korea', 'North Macedonia', 'Norway', 'Oman', 'Pakistan', 'Peru', 'Philippines', 'Poland', 'Portugal', 'Qatar', 'Romania', 'Russia', 'Rwanda', 'Saint Lucia', 'Serbia', 'Seychelles', 'Sierra Leone', 'Singapore', 'Slovakia', 'Slovenia', 'Solomon Islands', 'Somalia', 'South Africa', 'South Korea', 'South Sudan', 'Spain', 'Sri Lanka', 'Sudan', 'Suriname', 'Sweden', 'Switzerland', 'Syria', 'Tajikistan', 'Tanzania', 'Thailand', 'Timor-Leste', 'Togo', 'Tonga', 'Trinidad and Tobago', 'Tunisia', 'Uganda', 'United Arab Emirates', 'United Kingdom', 'United States of America', ...]])"
      ]
     },
     "execution_count": 98,
     "metadata": {},
     "output_type": "execute_result"
    }
   ],
   "source": [
    "n.index.levels"
   ]
  },
  {
   "cell_type": "markdown",
   "id": "07d45491",
   "metadata": {},
   "source": [
    "### FOR BIOLOGY"
   ]
  },
  {
   "cell_type": "code",
   "execution_count": 99,
   "id": "25b81ba5",
   "metadata": {},
   "outputs": [
    {
     "data": {
      "text/html": [
       "<div>\n",
       "<style scoped>\n",
       "    .dataframe tbody tr th:only-of-type {\n",
       "        vertical-align: middle;\n",
       "    }\n",
       "\n",
       "    .dataframe tbody tr th {\n",
       "        vertical-align: top;\n",
       "    }\n",
       "\n",
       "    .dataframe thead th {\n",
       "        text-align: right;\n",
       "    }\n",
       "</style>\n",
       "<table border=\"1\" class=\"dataframe\">\n",
       "  <thead>\n",
       "    <tr style=\"text-align: right;\">\n",
       "      <th></th>\n",
       "      <th>Sr. No.</th>\n",
       "      <th>Marks</th>\n",
       "      <th>Salary CTC (USD)</th>\n",
       "    </tr>\n",
       "    <tr>\n",
       "      <th>Country Names</th>\n",
       "      <th></th>\n",
       "      <th></th>\n",
       "      <th></th>\n",
       "    </tr>\n",
       "  </thead>\n",
       "  <tbody>\n",
       "    <tr>\n",
       "      <th>Yemen</th>\n",
       "      <td>481.0</td>\n",
       "      <td>99.0</td>\n",
       "      <td>466666.666667</td>\n",
       "    </tr>\n",
       "    <tr>\n",
       "      <th>Japan</th>\n",
       "      <td>459.0</td>\n",
       "      <td>96.0</td>\n",
       "      <td>440000.000000</td>\n",
       "    </tr>\n",
       "    <tr>\n",
       "      <th>Mongolia</th>\n",
       "      <td>176.0</td>\n",
       "      <td>92.0</td>\n",
       "      <td>440000.000000</td>\n",
       "    </tr>\n",
       "    <tr>\n",
       "      <th>Nigeria</th>\n",
       "      <td>264.0</td>\n",
       "      <td>95.0</td>\n",
       "      <td>440000.000000</td>\n",
       "    </tr>\n",
       "    <tr>\n",
       "      <th>Philippines</th>\n",
       "      <td>351.0</td>\n",
       "      <td>97.0</td>\n",
       "      <td>440000.000000</td>\n",
       "    </tr>\n",
       "  </tbody>\n",
       "</table>\n",
       "</div>"
      ],
      "text/plain": [
       "               Sr. No.  Marks  Salary CTC (USD)\n",
       "Country Names                                  \n",
       "Yemen            481.0   99.0     466666.666667\n",
       "Japan            459.0   96.0     440000.000000\n",
       "Mongolia         176.0   92.0     440000.000000\n",
       "Nigeria          264.0   95.0     440000.000000\n",
       "Philippines      351.0   97.0     440000.000000"
      ]
     },
     "execution_count": 99,
     "metadata": {},
     "output_type": "execute_result"
    }
   ],
   "source": [
    "n.xs(key='Biology').head()"
   ]
  },
  {
   "cell_type": "markdown",
   "id": "a20600a0",
   "metadata": {},
   "source": [
    "### FOR CHEMISTRY"
   ]
  },
  {
   "cell_type": "code",
   "execution_count": 100,
   "id": "396a9b6c",
   "metadata": {},
   "outputs": [
    {
     "data": {
      "text/html": [
       "<div>\n",
       "<style scoped>\n",
       "    .dataframe tbody tr th:only-of-type {\n",
       "        vertical-align: middle;\n",
       "    }\n",
       "\n",
       "    .dataframe tbody tr th {\n",
       "        vertical-align: top;\n",
       "    }\n",
       "\n",
       "    .dataframe thead th {\n",
       "        text-align: right;\n",
       "    }\n",
       "</style>\n",
       "<table border=\"1\" class=\"dataframe\">\n",
       "  <thead>\n",
       "    <tr style=\"text-align: right;\">\n",
       "      <th></th>\n",
       "      <th>Sr. No.</th>\n",
       "      <th>Marks</th>\n",
       "      <th>Salary CTC (USD)</th>\n",
       "    </tr>\n",
       "    <tr>\n",
       "      <th>Country Names</th>\n",
       "      <th></th>\n",
       "      <th></th>\n",
       "      <th></th>\n",
       "    </tr>\n",
       "  </thead>\n",
       "  <tbody>\n",
       "    <tr>\n",
       "      <th>Sweden</th>\n",
       "      <td>81.000000</td>\n",
       "      <td>92.00</td>\n",
       "      <td>486666.666667</td>\n",
       "    </tr>\n",
       "    <tr>\n",
       "      <th>Saint Lucia</th>\n",
       "      <td>168.666667</td>\n",
       "      <td>96.00</td>\n",
       "      <td>480000.000000</td>\n",
       "    </tr>\n",
       "    <tr>\n",
       "      <th>Monaco</th>\n",
       "      <td>202.666667</td>\n",
       "      <td>92.00</td>\n",
       "      <td>471111.111111</td>\n",
       "    </tr>\n",
       "    <tr>\n",
       "      <th>Zimbabwe</th>\n",
       "      <td>164.750000</td>\n",
       "      <td>93.75</td>\n",
       "      <td>468333.333333</td>\n",
       "    </tr>\n",
       "    <tr>\n",
       "      <th>Austria</th>\n",
       "      <td>7.000000</td>\n",
       "      <td>98.00</td>\n",
       "      <td>466666.666667</td>\n",
       "    </tr>\n",
       "  </tbody>\n",
       "</table>\n",
       "</div>"
      ],
      "text/plain": [
       "                  Sr. No.  Marks  Salary CTC (USD)\n",
       "Country Names                                     \n",
       "Sweden          81.000000  92.00     486666.666667\n",
       "Saint Lucia    168.666667  96.00     480000.000000\n",
       "Monaco         202.666667  92.00     471111.111111\n",
       "Zimbabwe       164.750000  93.75     468333.333333\n",
       "Austria          7.000000  98.00     466666.666667"
      ]
     },
     "execution_count": 100,
     "metadata": {},
     "output_type": "execute_result"
    }
   ],
   "source": [
    "n.xs(key='Chemistry').head()"
   ]
  },
  {
   "cell_type": "markdown",
   "id": "8f94790c",
   "metadata": {},
   "source": [
    "### FOR COMPUTER SCIENCE"
   ]
  },
  {
   "cell_type": "code",
   "execution_count": 101,
   "id": "98ddf9c7",
   "metadata": {},
   "outputs": [
    {
     "data": {
      "text/html": [
       "<div>\n",
       "<style scoped>\n",
       "    .dataframe tbody tr th:only-of-type {\n",
       "        vertical-align: middle;\n",
       "    }\n",
       "\n",
       "    .dataframe tbody tr th {\n",
       "        vertical-align: top;\n",
       "    }\n",
       "\n",
       "    .dataframe thead th {\n",
       "        text-align: right;\n",
       "    }\n",
       "</style>\n",
       "<table border=\"1\" class=\"dataframe\">\n",
       "  <thead>\n",
       "    <tr style=\"text-align: right;\">\n",
       "      <th></th>\n",
       "      <th>Sr. No.</th>\n",
       "      <th>Marks</th>\n",
       "      <th>Salary CTC (USD)</th>\n",
       "    </tr>\n",
       "    <tr>\n",
       "      <th>Country Names</th>\n",
       "      <th></th>\n",
       "      <th></th>\n",
       "      <th></th>\n",
       "    </tr>\n",
       "  </thead>\n",
       "  <tbody>\n",
       "    <tr>\n",
       "      <th>Jordan</th>\n",
       "      <td>474.0</td>\n",
       "      <td>98.0</td>\n",
       "      <td>533333.333333</td>\n",
       "    </tr>\n",
       "    <tr>\n",
       "      <th>Timor-Leste</th>\n",
       "      <td>145.0</td>\n",
       "      <td>96.0</td>\n",
       "      <td>533333.333333</td>\n",
       "    </tr>\n",
       "    <tr>\n",
       "      <th>Uruguay</th>\n",
       "      <td>329.0</td>\n",
       "      <td>99.0</td>\n",
       "      <td>533333.333333</td>\n",
       "    </tr>\n",
       "    <tr>\n",
       "      <th>Yemen</th>\n",
       "      <td>485.0</td>\n",
       "      <td>99.0</td>\n",
       "      <td>533333.333333</td>\n",
       "    </tr>\n",
       "    <tr>\n",
       "      <th>Monaco</th>\n",
       "      <td>251.0</td>\n",
       "      <td>95.0</td>\n",
       "      <td>533333.333333</td>\n",
       "    </tr>\n",
       "  </tbody>\n",
       "</table>\n",
       "</div>"
      ],
      "text/plain": [
       "               Sr. No.  Marks  Salary CTC (USD)\n",
       "Country Names                                  \n",
       "Jordan           474.0   98.0     533333.333333\n",
       "Timor-Leste      145.0   96.0     533333.333333\n",
       "Uruguay          329.0   99.0     533333.333333\n",
       "Yemen            485.0   99.0     533333.333333\n",
       "Monaco           251.0   95.0     533333.333333"
      ]
     },
     "execution_count": 101,
     "metadata": {},
     "output_type": "execute_result"
    }
   ],
   "source": [
    "n.xs(key='Computer Science').head()"
   ]
  },
  {
   "cell_type": "markdown",
   "id": "1473a59e",
   "metadata": {},
   "source": [
    "### FOR ENGLISH"
   ]
  },
  {
   "cell_type": "code",
   "execution_count": 102,
   "id": "f9231fc7",
   "metadata": {},
   "outputs": [
    {
     "data": {
      "text/html": [
       "<div>\n",
       "<style scoped>\n",
       "    .dataframe tbody tr th:only-of-type {\n",
       "        vertical-align: middle;\n",
       "    }\n",
       "\n",
       "    .dataframe tbody tr th {\n",
       "        vertical-align: top;\n",
       "    }\n",
       "\n",
       "    .dataframe thead th {\n",
       "        text-align: right;\n",
       "    }\n",
       "</style>\n",
       "<table border=\"1\" class=\"dataframe\">\n",
       "  <thead>\n",
       "    <tr style=\"text-align: right;\">\n",
       "      <th></th>\n",
       "      <th>Sr. No.</th>\n",
       "      <th>Marks</th>\n",
       "      <th>Salary CTC (USD)</th>\n",
       "    </tr>\n",
       "    <tr>\n",
       "      <th>Country Names</th>\n",
       "      <th></th>\n",
       "      <th></th>\n",
       "      <th></th>\n",
       "    </tr>\n",
       "  </thead>\n",
       "  <tbody>\n",
       "    <tr>\n",
       "      <th>Jordan</th>\n",
       "      <td>457.0</td>\n",
       "      <td>99.0</td>\n",
       "      <td>533333.333333</td>\n",
       "    </tr>\n",
       "    <tr>\n",
       "      <th>Albania</th>\n",
       "      <td>3.5</td>\n",
       "      <td>96.0</td>\n",
       "      <td>466666.666667</td>\n",
       "    </tr>\n",
       "    <tr>\n",
       "      <th>Zambia</th>\n",
       "      <td>130.0</td>\n",
       "      <td>95.0</td>\n",
       "      <td>466666.666667</td>\n",
       "    </tr>\n",
       "    <tr>\n",
       "      <th>Austria</th>\n",
       "      <td>18.0</td>\n",
       "      <td>98.0</td>\n",
       "      <td>466666.666667</td>\n",
       "    </tr>\n",
       "    <tr>\n",
       "      <th>Solomon Islands</th>\n",
       "      <td>25.0</td>\n",
       "      <td>93.0</td>\n",
       "      <td>466666.666667</td>\n",
       "    </tr>\n",
       "  </tbody>\n",
       "</table>\n",
       "</div>"
      ],
      "text/plain": [
       "                 Sr. No.  Marks  Salary CTC (USD)\n",
       "Country Names                                    \n",
       "Jordan             457.0   99.0     533333.333333\n",
       "Albania              3.5   96.0     466666.666667\n",
       "Zambia             130.0   95.0     466666.666667\n",
       "Austria             18.0   98.0     466666.666667\n",
       "Solomon Islands     25.0   93.0     466666.666667"
      ]
     },
     "execution_count": 102,
     "metadata": {},
     "output_type": "execute_result"
    }
   ],
   "source": [
    "n.xs(key='English').head()"
   ]
  },
  {
   "cell_type": "markdown",
   "id": "48f200ca",
   "metadata": {},
   "source": [
    "### FOR MATHS"
   ]
  },
  {
   "cell_type": "code",
   "execution_count": 104,
   "id": "016c4820",
   "metadata": {},
   "outputs": [
    {
     "data": {
      "text/html": [
       "<div>\n",
       "<style scoped>\n",
       "    .dataframe tbody tr th:only-of-type {\n",
       "        vertical-align: middle;\n",
       "    }\n",
       "\n",
       "    .dataframe tbody tr th {\n",
       "        vertical-align: top;\n",
       "    }\n",
       "\n",
       "    .dataframe thead th {\n",
       "        text-align: right;\n",
       "    }\n",
       "</style>\n",
       "<table border=\"1\" class=\"dataframe\">\n",
       "  <thead>\n",
       "    <tr style=\"text-align: right;\">\n",
       "      <th></th>\n",
       "      <th>Sr. No.</th>\n",
       "      <th>Marks</th>\n",
       "      <th>Salary CTC (USD)</th>\n",
       "    </tr>\n",
       "    <tr>\n",
       "      <th>Country Names</th>\n",
       "      <th></th>\n",
       "      <th></th>\n",
       "      <th></th>\n",
       "    </tr>\n",
       "  </thead>\n",
       "  <tbody>\n",
       "    <tr>\n",
       "      <th>Somalia</th>\n",
       "      <td>38.0</td>\n",
       "      <td>94.0</td>\n",
       "      <td>533333.333333</td>\n",
       "    </tr>\n",
       "    <tr>\n",
       "      <th>Tajikistan</th>\n",
       "      <td>95.0</td>\n",
       "      <td>94.0</td>\n",
       "      <td>533333.333333</td>\n",
       "    </tr>\n",
       "    <tr>\n",
       "      <th>United States of America</th>\n",
       "      <td>254.0</td>\n",
       "      <td>93.5</td>\n",
       "      <td>486666.666667</td>\n",
       "    </tr>\n",
       "    <tr>\n",
       "      <th>Sri Lanka</th>\n",
       "      <td>60.0</td>\n",
       "      <td>94.0</td>\n",
       "      <td>466666.666667</td>\n",
       "    </tr>\n",
       "    <tr>\n",
       "      <th>Thailand</th>\n",
       "      <td>109.0</td>\n",
       "      <td>93.0</td>\n",
       "      <td>466666.666667</td>\n",
       "    </tr>\n",
       "  </tbody>\n",
       "</table>\n",
       "</div>"
      ],
      "text/plain": [
       "                          Sr. No.  Marks  Salary CTC (USD)\n",
       "Country Names                                             \n",
       "Somalia                      38.0   94.0     533333.333333\n",
       "Tajikistan                   95.0   94.0     533333.333333\n",
       "United States of America    254.0   93.5     486666.666667\n",
       "Sri Lanka                    60.0   94.0     466666.666667\n",
       "Thailand                    109.0   93.0     466666.666667"
      ]
     },
     "execution_count": 104,
     "metadata": {},
     "output_type": "execute_result"
    }
   ],
   "source": [
    "n.xs(key='Mathematics').head()"
   ]
  },
  {
   "cell_type": "markdown",
   "id": "3995befb",
   "metadata": {},
   "source": [
    "### FOR PHYSICS"
   ]
  },
  {
   "cell_type": "code",
   "execution_count": 106,
   "id": "7762992d",
   "metadata": {},
   "outputs": [
    {
     "data": {
      "text/html": [
       "<div>\n",
       "<style scoped>\n",
       "    .dataframe tbody tr th:only-of-type {\n",
       "        vertical-align: middle;\n",
       "    }\n",
       "\n",
       "    .dataframe tbody tr th {\n",
       "        vertical-align: top;\n",
       "    }\n",
       "\n",
       "    .dataframe thead th {\n",
       "        text-align: right;\n",
       "    }\n",
       "</style>\n",
       "<table border=\"1\" class=\"dataframe\">\n",
       "  <thead>\n",
       "    <tr style=\"text-align: right;\">\n",
       "      <th></th>\n",
       "      <th>Sr. No.</th>\n",
       "      <th>Marks</th>\n",
       "      <th>Salary CTC (USD)</th>\n",
       "    </tr>\n",
       "    <tr>\n",
       "      <th>Country Names</th>\n",
       "      <th></th>\n",
       "      <th></th>\n",
       "      <th></th>\n",
       "    </tr>\n",
       "  </thead>\n",
       "  <tbody>\n",
       "    <tr>\n",
       "      <th>Singapore</th>\n",
       "      <td>29.0</td>\n",
       "      <td>90.0</td>\n",
       "      <td>533333.333333</td>\n",
       "    </tr>\n",
       "    <tr>\n",
       "      <th>Indonesia</th>\n",
       "      <td>351.5</td>\n",
       "      <td>99.0</td>\n",
       "      <td>486666.666667</td>\n",
       "    </tr>\n",
       "    <tr>\n",
       "      <th>Rwanda</th>\n",
       "      <td>187.0</td>\n",
       "      <td>98.0</td>\n",
       "      <td>466666.666667</td>\n",
       "    </tr>\n",
       "    <tr>\n",
       "      <th>Colombia</th>\n",
       "      <td>106.0</td>\n",
       "      <td>96.0</td>\n",
       "      <td>466666.666667</td>\n",
       "    </tr>\n",
       "    <tr>\n",
       "      <th>Slovenia</th>\n",
       "      <td>17.5</td>\n",
       "      <td>91.5</td>\n",
       "      <td>466666.666667</td>\n",
       "    </tr>\n",
       "  </tbody>\n",
       "</table>\n",
       "</div>"
      ],
      "text/plain": [
       "               Sr. No.  Marks  Salary CTC (USD)\n",
       "Country Names                                  \n",
       "Singapore         29.0   90.0     533333.333333\n",
       "Indonesia        351.5   99.0     486666.666667\n",
       "Rwanda           187.0   98.0     466666.666667\n",
       "Colombia         106.0   96.0     466666.666667\n",
       "Slovenia          17.5   91.5     466666.666667"
      ]
     },
     "execution_count": 106,
     "metadata": {},
     "output_type": "execute_result"
    }
   ],
   "source": [
    "n.xs(key='Physics').head()"
   ]
  },
  {
   "cell_type": "markdown",
   "id": "29d7d498",
   "metadata": {},
   "source": [
    "### FOR STATISTICS"
   ]
  },
  {
   "cell_type": "code",
   "execution_count": 107,
   "id": "34e4883c",
   "metadata": {},
   "outputs": [
    {
     "data": {
      "text/html": [
       "<div>\n",
       "<style scoped>\n",
       "    .dataframe tbody tr th:only-of-type {\n",
       "        vertical-align: middle;\n",
       "    }\n",
       "\n",
       "    .dataframe tbody tr th {\n",
       "        vertical-align: top;\n",
       "    }\n",
       "\n",
       "    .dataframe thead th {\n",
       "        text-align: right;\n",
       "    }\n",
       "</style>\n",
       "<table border=\"1\" class=\"dataframe\">\n",
       "  <thead>\n",
       "    <tr style=\"text-align: right;\">\n",
       "      <th></th>\n",
       "      <th>Sr. No.</th>\n",
       "      <th>Marks</th>\n",
       "      <th>Salary CTC (USD)</th>\n",
       "    </tr>\n",
       "    <tr>\n",
       "      <th>Country Names</th>\n",
       "      <th></th>\n",
       "      <th></th>\n",
       "      <th></th>\n",
       "    </tr>\n",
       "  </thead>\n",
       "  <tbody>\n",
       "    <tr>\n",
       "      <th>Israel</th>\n",
       "      <td>446.0</td>\n",
       "      <td>96.0</td>\n",
       "      <td>533333.333333</td>\n",
       "    </tr>\n",
       "    <tr>\n",
       "      <th>Tunisia</th>\n",
       "      <td>137.0</td>\n",
       "      <td>93.0</td>\n",
       "      <td>466666.666667</td>\n",
       "    </tr>\n",
       "    <tr>\n",
       "      <th>Tanzania</th>\n",
       "      <td>98.0</td>\n",
       "      <td>93.0</td>\n",
       "      <td>466666.666667</td>\n",
       "    </tr>\n",
       "    <tr>\n",
       "      <th>Maldives</th>\n",
       "      <td>403.0</td>\n",
       "      <td>99.0</td>\n",
       "      <td>440000.000000</td>\n",
       "    </tr>\n",
       "    <tr>\n",
       "      <th>Jordan</th>\n",
       "      <td>470.0</td>\n",
       "      <td>99.0</td>\n",
       "      <td>440000.000000</td>\n",
       "    </tr>\n",
       "  </tbody>\n",
       "</table>\n",
       "</div>"
      ],
      "text/plain": [
       "               Sr. No.  Marks  Salary CTC (USD)\n",
       "Country Names                                  \n",
       "Israel           446.0   96.0     533333.333333\n",
       "Tunisia          137.0   93.0     466666.666667\n",
       "Tanzania          98.0   93.0     466666.666667\n",
       "Maldives         403.0   99.0     440000.000000\n",
       "Jordan           470.0   99.0     440000.000000"
      ]
     },
     "execution_count": 107,
     "metadata": {},
     "output_type": "execute_result"
    }
   ],
   "source": [
    "n.xs(key='Statistics').head()"
   ]
  },
  {
   "cell_type": "markdown",
   "id": "cd2eb4d6",
   "metadata": {},
   "source": [
    "# TOP 5 UNIVERSITY WITH HIGH AND LOW CTC"
   ]
  },
  {
   "cell_type": "code",
   "execution_count": 10,
   "id": "1cd25ac9",
   "metadata": {},
   "outputs": [],
   "source": [
    "m =df.groupby(by=['Subjects','University']).mean()\n",
    "n = m.sort_values(by=['Salary CTC (USD)'],ascending=False)"
   ]
  },
  {
   "cell_type": "markdown",
   "id": "6186b15a",
   "metadata": {},
   "source": [
    "### FOR BIOLOGY"
   ]
  },
  {
   "cell_type": "code",
   "execution_count": 11,
   "id": "5dc5a21e",
   "metadata": {},
   "outputs": [
    {
     "data": {
      "text/html": [
       "<div>\n",
       "<style scoped>\n",
       "    .dataframe tbody tr th:only-of-type {\n",
       "        vertical-align: middle;\n",
       "    }\n",
       "\n",
       "    .dataframe tbody tr th {\n",
       "        vertical-align: top;\n",
       "    }\n",
       "\n",
       "    .dataframe thead th {\n",
       "        text-align: right;\n",
       "    }\n",
       "</style>\n",
       "<table border=\"1\" class=\"dataframe\">\n",
       "  <thead>\n",
       "    <tr style=\"text-align: right;\">\n",
       "      <th></th>\n",
       "      <th>Sr. No.</th>\n",
       "      <th>Marks</th>\n",
       "      <th>Salary CTC (USD)</th>\n",
       "    </tr>\n",
       "    <tr>\n",
       "      <th>University</th>\n",
       "      <th></th>\n",
       "      <th></th>\n",
       "      <th></th>\n",
       "    </tr>\n",
       "  </thead>\n",
       "  <tbody>\n",
       "    <tr>\n",
       "      <th>Harward</th>\n",
       "      <td>260.666667</td>\n",
       "      <td>96.666667</td>\n",
       "      <td>435555.555556</td>\n",
       "    </tr>\n",
       "    <tr>\n",
       "      <th>UCLA, Berkley</th>\n",
       "      <td>306.187500</td>\n",
       "      <td>95.562500</td>\n",
       "      <td>383333.333333</td>\n",
       "    </tr>\n",
       "    <tr>\n",
       "      <th>MIT</th>\n",
       "      <td>278.058824</td>\n",
       "      <td>95.411765</td>\n",
       "      <td>380784.313725</td>\n",
       "    </tr>\n",
       "    <tr>\n",
       "      <th>ICL</th>\n",
       "      <td>245.000000</td>\n",
       "      <td>91.000000</td>\n",
       "      <td>373333.333333</td>\n",
       "    </tr>\n",
       "    <tr>\n",
       "      <th>UM Armhest</th>\n",
       "      <td>153.333333</td>\n",
       "      <td>95.000000</td>\n",
       "      <td>308888.888889</td>\n",
       "    </tr>\n",
       "  </tbody>\n",
       "</table>\n",
       "</div>"
      ],
      "text/plain": [
       "                  Sr. No.      Marks  Salary CTC (USD)\n",
       "University                                            \n",
       "Harward        260.666667  96.666667     435555.555556\n",
       "UCLA, Berkley  306.187500  95.562500     383333.333333\n",
       "MIT            278.058824  95.411765     380784.313725\n",
       "ICL            245.000000  91.000000     373333.333333\n",
       "UM Armhest     153.333333  95.000000     308888.888889"
      ]
     },
     "execution_count": 11,
     "metadata": {},
     "output_type": "execute_result"
    }
   ],
   "source": [
    "n.xs(key='Biology').head()"
   ]
  },
  {
   "cell_type": "markdown",
   "id": "8a817c50",
   "metadata": {},
   "source": [
    "  ### FOR CHEMISTRY"
   ]
  },
  {
   "cell_type": "code",
   "execution_count": 100,
   "id": "e69473de",
   "metadata": {},
   "outputs": [
    {
     "data": {
      "text/html": [
       "<div>\n",
       "<style scoped>\n",
       "    .dataframe tbody tr th:only-of-type {\n",
       "        vertical-align: middle;\n",
       "    }\n",
       "\n",
       "    .dataframe tbody tr th {\n",
       "        vertical-align: top;\n",
       "    }\n",
       "\n",
       "    .dataframe thead th {\n",
       "        text-align: right;\n",
       "    }\n",
       "</style>\n",
       "<table border=\"1\" class=\"dataframe\">\n",
       "  <thead>\n",
       "    <tr style=\"text-align: right;\">\n",
       "      <th></th>\n",
       "      <th>Sr. No.</th>\n",
       "      <th>Marks</th>\n",
       "      <th>Salary CTC (USD)</th>\n",
       "    </tr>\n",
       "    <tr>\n",
       "      <th>Country Names</th>\n",
       "      <th></th>\n",
       "      <th></th>\n",
       "      <th></th>\n",
       "    </tr>\n",
       "  </thead>\n",
       "  <tbody>\n",
       "    <tr>\n",
       "      <th>Sweden</th>\n",
       "      <td>81.000000</td>\n",
       "      <td>92.00</td>\n",
       "      <td>486666.666667</td>\n",
       "    </tr>\n",
       "    <tr>\n",
       "      <th>Saint Lucia</th>\n",
       "      <td>168.666667</td>\n",
       "      <td>96.00</td>\n",
       "      <td>480000.000000</td>\n",
       "    </tr>\n",
       "    <tr>\n",
       "      <th>Monaco</th>\n",
       "      <td>202.666667</td>\n",
       "      <td>92.00</td>\n",
       "      <td>471111.111111</td>\n",
       "    </tr>\n",
       "    <tr>\n",
       "      <th>Zimbabwe</th>\n",
       "      <td>164.750000</td>\n",
       "      <td>93.75</td>\n",
       "      <td>468333.333333</td>\n",
       "    </tr>\n",
       "    <tr>\n",
       "      <th>Austria</th>\n",
       "      <td>7.000000</td>\n",
       "      <td>98.00</td>\n",
       "      <td>466666.666667</td>\n",
       "    </tr>\n",
       "  </tbody>\n",
       "</table>\n",
       "</div>"
      ],
      "text/plain": [
       "                  Sr. No.  Marks  Salary CTC (USD)\n",
       "Country Names                                     \n",
       "Sweden          81.000000  92.00     486666.666667\n",
       "Saint Lucia    168.666667  96.00     480000.000000\n",
       "Monaco         202.666667  92.00     471111.111111\n",
       "Zimbabwe       164.750000  93.75     468333.333333\n",
       "Austria          7.000000  98.00     466666.666667"
      ]
     },
     "execution_count": 100,
     "metadata": {},
     "output_type": "execute_result"
    }
   ],
   "source": [
    "n.xs(key='Chemistry').head()"
   ]
  },
  {
   "cell_type": "markdown",
   "id": "99cdc2d7",
   "metadata": {},
   "source": [
    "### FOR Computer Science"
   ]
  },
  {
   "cell_type": "code",
   "execution_count": 12,
   "id": "b1c2002e",
   "metadata": {},
   "outputs": [
    {
     "data": {
      "text/html": [
       "<div>\n",
       "<style scoped>\n",
       "    .dataframe tbody tr th:only-of-type {\n",
       "        vertical-align: middle;\n",
       "    }\n",
       "\n",
       "    .dataframe tbody tr th {\n",
       "        vertical-align: top;\n",
       "    }\n",
       "\n",
       "    .dataframe thead th {\n",
       "        text-align: right;\n",
       "    }\n",
       "</style>\n",
       "<table border=\"1\" class=\"dataframe\">\n",
       "  <thead>\n",
       "    <tr style=\"text-align: right;\">\n",
       "      <th></th>\n",
       "      <th>Sr. No.</th>\n",
       "      <th>Marks</th>\n",
       "      <th>Salary CTC (USD)</th>\n",
       "    </tr>\n",
       "    <tr>\n",
       "      <th>University</th>\n",
       "      <th></th>\n",
       "      <th></th>\n",
       "      <th></th>\n",
       "    </tr>\n",
       "  </thead>\n",
       "  <tbody>\n",
       "    <tr>\n",
       "      <th>Harward</th>\n",
       "      <td>233.888889</td>\n",
       "      <td>97.111111</td>\n",
       "      <td>471111.111111</td>\n",
       "    </tr>\n",
       "    <tr>\n",
       "      <th>Stanford</th>\n",
       "      <td>325.125000</td>\n",
       "      <td>95.875000</td>\n",
       "      <td>466666.666667</td>\n",
       "    </tr>\n",
       "    <tr>\n",
       "      <th>ICL</th>\n",
       "      <td>256.666667</td>\n",
       "      <td>96.333333</td>\n",
       "      <td>404444.444444</td>\n",
       "    </tr>\n",
       "    <tr>\n",
       "      <th>MIT</th>\n",
       "      <td>322.000000</td>\n",
       "      <td>96.291667</td>\n",
       "      <td>401666.666667</td>\n",
       "    </tr>\n",
       "    <tr>\n",
       "      <th>UCLA, Berkley</th>\n",
       "      <td>328.200000</td>\n",
       "      <td>97.066667</td>\n",
       "      <td>363555.555556</td>\n",
       "    </tr>\n",
       "  </tbody>\n",
       "</table>\n",
       "</div>"
      ],
      "text/plain": [
       "                  Sr. No.      Marks  Salary CTC (USD)\n",
       "University                                            \n",
       "Harward        233.888889  97.111111     471111.111111\n",
       "Stanford       325.125000  95.875000     466666.666667\n",
       "ICL            256.666667  96.333333     404444.444444\n",
       "MIT            322.000000  96.291667     401666.666667\n",
       "UCLA, Berkley  328.200000  97.066667     363555.555556"
      ]
     },
     "execution_count": 12,
     "metadata": {},
     "output_type": "execute_result"
    }
   ],
   "source": [
    "n.xs(key='Computer Science').head()"
   ]
  },
  {
   "cell_type": "markdown",
   "id": "b706dfcc",
   "metadata": {},
   "source": [
    "### FOR English"
   ]
  },
  {
   "cell_type": "code",
   "execution_count": 13,
   "id": "2d6c745c",
   "metadata": {},
   "outputs": [
    {
     "data": {
      "text/html": [
       "<div>\n",
       "<style scoped>\n",
       "    .dataframe tbody tr th:only-of-type {\n",
       "        vertical-align: middle;\n",
       "    }\n",
       "\n",
       "    .dataframe tbody tr th {\n",
       "        vertical-align: top;\n",
       "    }\n",
       "\n",
       "    .dataframe thead th {\n",
       "        text-align: right;\n",
       "    }\n",
       "</style>\n",
       "<table border=\"1\" class=\"dataframe\">\n",
       "  <thead>\n",
       "    <tr style=\"text-align: right;\">\n",
       "      <th></th>\n",
       "      <th>Sr. No.</th>\n",
       "      <th>Marks</th>\n",
       "      <th>Salary CTC (USD)</th>\n",
       "    </tr>\n",
       "    <tr>\n",
       "      <th>University</th>\n",
       "      <th></th>\n",
       "      <th></th>\n",
       "      <th></th>\n",
       "    </tr>\n",
       "  </thead>\n",
       "  <tbody>\n",
       "    <tr>\n",
       "      <th>Stanford</th>\n",
       "      <td>175.250000</td>\n",
       "      <td>95.250000</td>\n",
       "      <td>500000.000000</td>\n",
       "    </tr>\n",
       "    <tr>\n",
       "      <th>Harward</th>\n",
       "      <td>62.307692</td>\n",
       "      <td>94.076923</td>\n",
       "      <td>426666.666667</td>\n",
       "    </tr>\n",
       "    <tr>\n",
       "      <th>MIT</th>\n",
       "      <td>92.538462</td>\n",
       "      <td>94.461538</td>\n",
       "      <td>420512.820513</td>\n",
       "    </tr>\n",
       "    <tr>\n",
       "      <th>ICL</th>\n",
       "      <td>479.000000</td>\n",
       "      <td>97.000000</td>\n",
       "      <td>373333.333333</td>\n",
       "    </tr>\n",
       "    <tr>\n",
       "      <th>UCLA, Berkley</th>\n",
       "      <td>175.666667</td>\n",
       "      <td>94.133333</td>\n",
       "      <td>361777.777778</td>\n",
       "    </tr>\n",
       "  </tbody>\n",
       "</table>\n",
       "</div>"
      ],
      "text/plain": [
       "                  Sr. No.      Marks  Salary CTC (USD)\n",
       "University                                            \n",
       "Stanford       175.250000  95.250000     500000.000000\n",
       "Harward         62.307692  94.076923     426666.666667\n",
       "MIT             92.538462  94.461538     420512.820513\n",
       "ICL            479.000000  97.000000     373333.333333\n",
       "UCLA, Berkley  175.666667  94.133333     361777.777778"
      ]
     },
     "execution_count": 13,
     "metadata": {},
     "output_type": "execute_result"
    }
   ],
   "source": [
    "n.xs(key='English').head()"
   ]
  },
  {
   "cell_type": "markdown",
   "id": "420ec0c1",
   "metadata": {},
   "source": [
    "### FOR MATHS"
   ]
  },
  {
   "cell_type": "code",
   "execution_count": 14,
   "id": "e374c8d0",
   "metadata": {},
   "outputs": [
    {
     "data": {
      "text/html": [
       "<div>\n",
       "<style scoped>\n",
       "    .dataframe tbody tr th:only-of-type {\n",
       "        vertical-align: middle;\n",
       "    }\n",
       "\n",
       "    .dataframe tbody tr th {\n",
       "        vertical-align: top;\n",
       "    }\n",
       "\n",
       "    .dataframe thead th {\n",
       "        text-align: right;\n",
       "    }\n",
       "</style>\n",
       "<table border=\"1\" class=\"dataframe\">\n",
       "  <thead>\n",
       "    <tr style=\"text-align: right;\">\n",
       "      <th></th>\n",
       "      <th>Sr. No.</th>\n",
       "      <th>Marks</th>\n",
       "      <th>Salary CTC (USD)</th>\n",
       "    </tr>\n",
       "    <tr>\n",
       "      <th>University</th>\n",
       "      <th></th>\n",
       "      <th></th>\n",
       "      <th></th>\n",
       "    </tr>\n",
       "  </thead>\n",
       "  <tbody>\n",
       "    <tr>\n",
       "      <th>Stanford</th>\n",
       "      <td>203.000000</td>\n",
       "      <td>95.000000</td>\n",
       "      <td>466666.666667</td>\n",
       "    </tr>\n",
       "    <tr>\n",
       "      <th>ICL</th>\n",
       "      <td>167.500000</td>\n",
       "      <td>94.500000</td>\n",
       "      <td>466666.666667</td>\n",
       "    </tr>\n",
       "    <tr>\n",
       "      <th>Harward</th>\n",
       "      <td>217.571429</td>\n",
       "      <td>94.857143</td>\n",
       "      <td>431428.571429</td>\n",
       "    </tr>\n",
       "    <tr>\n",
       "      <th>MIT</th>\n",
       "      <td>245.357143</td>\n",
       "      <td>95.357143</td>\n",
       "      <td>376666.666667</td>\n",
       "    </tr>\n",
       "    <tr>\n",
       "      <th>UCLA, Berkley</th>\n",
       "      <td>213.937500</td>\n",
       "      <td>95.187500</td>\n",
       "      <td>348333.333333</td>\n",
       "    </tr>\n",
       "  </tbody>\n",
       "</table>\n",
       "</div>"
      ],
      "text/plain": [
       "                  Sr. No.      Marks  Salary CTC (USD)\n",
       "University                                            \n",
       "Stanford       203.000000  95.000000     466666.666667\n",
       "ICL            167.500000  94.500000     466666.666667\n",
       "Harward        217.571429  94.857143     431428.571429\n",
       "MIT            245.357143  95.357143     376666.666667\n",
       "UCLA, Berkley  213.937500  95.187500     348333.333333"
      ]
     },
     "execution_count": 14,
     "metadata": {},
     "output_type": "execute_result"
    }
   ],
   "source": [
    "n.xs(key='Mathematics').head()"
   ]
  },
  {
   "cell_type": "markdown",
   "id": "8b70db18",
   "metadata": {},
   "source": [
    "### FOR PHYSICS"
   ]
  },
  {
   "cell_type": "code",
   "execution_count": 8,
   "id": "efa951ad",
   "metadata": {},
   "outputs": [
    {
     "data": {
      "text/html": [
       "<div>\n",
       "<style scoped>\n",
       "    .dataframe tbody tr th:only-of-type {\n",
       "        vertical-align: middle;\n",
       "    }\n",
       "\n",
       "    .dataframe tbody tr th {\n",
       "        vertical-align: top;\n",
       "    }\n",
       "\n",
       "    .dataframe thead th {\n",
       "        text-align: right;\n",
       "    }\n",
       "</style>\n",
       "<table border=\"1\" class=\"dataframe\">\n",
       "  <thead>\n",
       "    <tr style=\"text-align: right;\">\n",
       "      <th></th>\n",
       "      <th>Sr. No.</th>\n",
       "      <th>Marks</th>\n",
       "      <th>Salary CTC (USD)</th>\n",
       "    </tr>\n",
       "    <tr>\n",
       "      <th>University</th>\n",
       "      <th></th>\n",
       "      <th></th>\n",
       "      <th></th>\n",
       "    </tr>\n",
       "  </thead>\n",
       "  <tbody>\n",
       "    <tr>\n",
       "      <th>Stanford</th>\n",
       "      <td>321.500000</td>\n",
       "      <td>96.200000</td>\n",
       "      <td>469333.333333</td>\n",
       "    </tr>\n",
       "    <tr>\n",
       "      <th>Harward</th>\n",
       "      <td>210.285714</td>\n",
       "      <td>95.071429</td>\n",
       "      <td>437142.857143</td>\n",
       "    </tr>\n",
       "    <tr>\n",
       "      <th>MIT</th>\n",
       "      <td>292.809524</td>\n",
       "      <td>95.476190</td>\n",
       "      <td>402539.682540</td>\n",
       "    </tr>\n",
       "    <tr>\n",
       "      <th>UCLA, Berkley</th>\n",
       "      <td>274.846154</td>\n",
       "      <td>95.384615</td>\n",
       "      <td>377435.897436</td>\n",
       "    </tr>\n",
       "    <tr>\n",
       "      <th>ICL</th>\n",
       "      <td>384.000000</td>\n",
       "      <td>98.000000</td>\n",
       "      <td>373333.333333</td>\n",
       "    </tr>\n",
       "  </tbody>\n",
       "</table>\n",
       "</div>"
      ],
      "text/plain": [
       "                  Sr. No.      Marks  Salary CTC (USD)\n",
       "University                                            \n",
       "Stanford       321.500000  96.200000     469333.333333\n",
       "Harward        210.285714  95.071429     437142.857143\n",
       "MIT            292.809524  95.476190     402539.682540\n",
       "UCLA, Berkley  274.846154  95.384615     377435.897436\n",
       "ICL            384.000000  98.000000     373333.333333"
      ]
     },
     "execution_count": 8,
     "metadata": {},
     "output_type": "execute_result"
    }
   ],
   "source": [
    "n.xs(key='Physics').head()"
   ]
  },
  {
   "cell_type": "markdown",
   "id": "e17e3abd",
   "metadata": {},
   "source": [
    "### FOR STATISTICS"
   ]
  },
  {
   "cell_type": "code",
   "execution_count": 15,
   "id": "63b77c12",
   "metadata": {},
   "outputs": [
    {
     "data": {
      "text/html": [
       "<div>\n",
       "<style scoped>\n",
       "    .dataframe tbody tr th:only-of-type {\n",
       "        vertical-align: middle;\n",
       "    }\n",
       "\n",
       "    .dataframe tbody tr th {\n",
       "        vertical-align: top;\n",
       "    }\n",
       "\n",
       "    .dataframe thead th {\n",
       "        text-align: right;\n",
       "    }\n",
       "</style>\n",
       "<table border=\"1\" class=\"dataframe\">\n",
       "  <thead>\n",
       "    <tr style=\"text-align: right;\">\n",
       "      <th></th>\n",
       "      <th>Sr. No.</th>\n",
       "      <th>Marks</th>\n",
       "      <th>Salary CTC (USD)</th>\n",
       "    </tr>\n",
       "    <tr>\n",
       "      <th>University</th>\n",
       "      <th></th>\n",
       "      <th></th>\n",
       "      <th></th>\n",
       "    </tr>\n",
       "  </thead>\n",
       "  <tbody>\n",
       "    <tr>\n",
       "      <th>Stanford</th>\n",
       "      <td>434.5</td>\n",
       "      <td>96.5</td>\n",
       "      <td>466666.666667</td>\n",
       "    </tr>\n",
       "    <tr>\n",
       "      <th>Harward</th>\n",
       "      <td>308.2</td>\n",
       "      <td>95.6</td>\n",
       "      <td>466666.666667</td>\n",
       "    </tr>\n",
       "    <tr>\n",
       "      <th>ICL</th>\n",
       "      <td>313.5</td>\n",
       "      <td>94.5</td>\n",
       "      <td>420000.000000</td>\n",
       "    </tr>\n",
       "    <tr>\n",
       "      <th>MIT</th>\n",
       "      <td>422.4</td>\n",
       "      <td>97.6</td>\n",
       "      <td>387333.333333</td>\n",
       "    </tr>\n",
       "    <tr>\n",
       "      <th>UCLA, Berkley</th>\n",
       "      <td>302.2</td>\n",
       "      <td>95.6</td>\n",
       "      <td>364000.000000</td>\n",
       "    </tr>\n",
       "  </tbody>\n",
       "</table>\n",
       "</div>"
      ],
      "text/plain": [
       "               Sr. No.  Marks  Salary CTC (USD)\n",
       "University                                     \n",
       "Stanford         434.5   96.5     466666.666667\n",
       "Harward          308.2   95.6     466666.666667\n",
       "ICL              313.5   94.5     420000.000000\n",
       "MIT              422.4   97.6     387333.333333\n",
       "UCLA, Berkley    302.2   95.6     364000.000000"
      ]
     },
     "execution_count": 15,
     "metadata": {},
     "output_type": "execute_result"
    }
   ],
   "source": [
    "n.xs(key='Statistics').head()"
   ]
  },
  {
   "cell_type": "markdown",
   "id": "f658b002",
   "metadata": {},
   "source": []
  },
  {
   "cell_type": "code",
   "execution_count": 6,
   "id": "b5323136",
   "metadata": {},
   "outputs": [
    {
     "data": {
      "text/plain": [
       "<AxesSubplot:>"
      ]
     },
     "execution_count": 6,
     "metadata": {},
     "output_type": "execute_result"
    },
    {
     "data": {
      "image/png": "[encoded data removed]",
      "text/plain": [
       "<Figure size 432x288 with 2 Axes>"
      ]
     },
     "metadata": {
      "needs_background": "light"
     },
     "output_type": "display_data"
    }
   ],
   "source": [
    "sns.heatmap(data=df.corr(),annot=True)"
   ]
  },
  {
   "cell_type": "code",
   "execution_count": null,
   "id": "202e40e6",
   "metadata": {},
   "outputs": [],
   "source": []
  }
 ],
 "metadata": {
  "kernelspec": {
   "display_name": "Python 3 (ipykernel)",
   "language": "python",
   "name": "python3"
  },
  "language_info": {
   "codemirror_mode": {
    "name": "ipython",
    "version": 3
   },
   "file_extension": ".py",
   "mimetype": "text/x-python",
   "name": "python",
   "nbconvert_exporter": "python",
   "pygments_lexer": "ipython3",
   "version": "3.9.7"
  }
 },
 "nbformat": 4,
 "nbformat_minor": 5
}
