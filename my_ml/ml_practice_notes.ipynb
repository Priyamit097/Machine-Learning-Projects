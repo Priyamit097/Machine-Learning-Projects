{
 "cells": [
  {
   "cell_type": "markdown",
   "id": "fef3f236",
   "metadata": {},
   "source": [
    "# Machine Learning:\n",
    "Machine Learning is the subset of AI which gives the machine the ability to use the stat model to learn\n",
    "from the data.\n",
    "\n",
    "Machine Learning is used to:\n",
    "Detect patterns in the dataset,\n",
    "Find hidden insights from the data,\n",
    "Automate analytical and statistical model building\n",
    "\n",
    "Steps of Machine Learning:\n",
    "1. Data collection\n",
    "2. Data analysis\n",
    "3. Data wrangling/Feature engineering\n",
    "4. Train/Test Algorithms\n",
    "5. Model Selection\n",
    "6. Hyperparameter Tuning/Optimisation\n",
    "7. Prediction/Deployment"
   ]
  },
  {
   "cell_type": "markdown",
   "id": "a0f57717",
   "metadata": {},
   "source": [
    "# Scenario 1:Iris Prediction\n",
    "You are provided the 'Iris' dataset. You have to predict species of the ßowers based on the given\n",
    "features. You have to predict the 'Class' feature which contains 3 species namely, Iris-Setosa, IrisVirginica, and Iris-Versicolor.\n",
    "\n",
    "### Topics Covered:\n",
    "* Data collection\n",
    "* Data analysis\n",
    "* Data wrangling/Feature engineering\n",
    "* Train/Test Algorithms\n",
    "* Predicting using the trained model\n",
    "* Evaluating a model: F1-score and Confusion matrix\n",
    "\n",
    "### Dataset Description:\n",
    "The dataset contains 5 features:\n",
    "1. sepal length (cm): length of the sepal\n",
    "2. sepal width (cm): width of the sepal\n",
    "3. petal length (cm): length of the petal\n",
    "4. petal width (cm): width of the petal\n",
    "5. class: species of the iris flower\n",
    "\n",
    "### Tasks to be performed:\n",
    "\n",
    "1. Load the data, check its shape and check for null values - Beginner\n",
    "2. Handle null values based on the given threshold - Beginner\n",
    "3. Convert categorical to numerical feature using Label Encoder - Beginner\n",
    "4. Handle outlier values - Intermediate\n",
    "5. Plot and analyze Correlation - Beginner\n",
    "6. Split the dataset for training and testing - Beginner\n",
    "7. Perform K-Fold cross validation over di!erent classiÞcation algorithm - Intermediate\n",
    "8. Train a logistic regression model and perform prediction on test data - Beginner\n",
    "9. Evaluate the model using confusion matrix and F1-score - Beginner\n",
    "\n"
   ]
  },
  {
   "cell_type": "code",
   "execution_count": 2,
   "id": "0b1b8b5d",
   "metadata": {},
   "outputs": [
    {
     "name": "stderr",
     "output_type": "stream",
     "text": [
      "--2022-01-19 10:33:27--  https://www.dropbox.com/s/webw4cr5dsnm3jv/iris1.csv\n"
     ]
    }
   ],
   "source": [
    "!wget https://www.dropbox.com/s/webw4cr5dsnm3jv/iris1.csv"
   ]
  },
  {
   "cell_type": "markdown",
   "id": "cdc83dbb",
   "metadata": {},
   "source": [
    "### Question-1: Load and analyze the data\n",
    "#### Tasks to do:\n",
    "\n",
    "- Load the data in a pandas DataFrame\n",
    "- Have a look at the first five rows\n",
    "- Check if the dataset contains any null values\n",
    "- Check the shape of the dataset"
   ]
  },
  {
   "cell_type": "code",
   "execution_count": 1,
   "id": "f6bdb5be",
   "metadata": {},
   "outputs": [],
   "source": [
    "import pandas as pd\n",
    "import numpy as np\n",
    "df = pd.read_csv('iris1.csv')"
   ]
  },
  {
   "cell_type": "code",
   "execution_count": 2,
   "id": "66b73b1f",
   "metadata": {},
   "outputs": [
    {
     "data": {
      "text/html": [
       "<div>\n",
       "<style scoped>\n",
       "    .dataframe tbody tr th:only-of-type {\n",
       "        vertical-align: middle;\n",
       "    }\n",
       "\n",
       "    .dataframe tbody tr th {\n",
       "        vertical-align: top;\n",
       "    }\n",
       "\n",
       "    .dataframe thead th {\n",
       "        text-align: right;\n",
       "    }\n",
       "</style>\n",
       "<table border=\"1\" class=\"dataframe\">\n",
       "  <thead>\n",
       "    <tr style=\"text-align: right;\">\n",
       "      <th></th>\n",
       "      <th>sepal length (cm)</th>\n",
       "      <th>sepal width (cm)</th>\n",
       "      <th>petal length (cm)</th>\n",
       "      <th>petal width (cm)</th>\n",
       "      <th>Class</th>\n",
       "    </tr>\n",
       "  </thead>\n",
       "  <tbody>\n",
       "    <tr>\n",
       "      <th>0</th>\n",
       "      <td>5.1</td>\n",
       "      <td>3.5</td>\n",
       "      <td>1.4</td>\n",
       "      <td>0.2</td>\n",
       "      <td>Iris-Setosa</td>\n",
       "    </tr>\n",
       "    <tr>\n",
       "      <th>1</th>\n",
       "      <td>4.9</td>\n",
       "      <td>3.0</td>\n",
       "      <td>1.4</td>\n",
       "      <td>0.2</td>\n",
       "      <td>Iris-Setosa</td>\n",
       "    </tr>\n",
       "    <tr>\n",
       "      <th>2</th>\n",
       "      <td>4.7</td>\n",
       "      <td>3.2</td>\n",
       "      <td>1.3</td>\n",
       "      <td>0.2</td>\n",
       "      <td>Iris-Setosa</td>\n",
       "    </tr>\n",
       "    <tr>\n",
       "      <th>3</th>\n",
       "      <td>4.6</td>\n",
       "      <td>3.1</td>\n",
       "      <td>1.5</td>\n",
       "      <td>0.2</td>\n",
       "      <td>Iris-Setosa</td>\n",
       "    </tr>\n",
       "    <tr>\n",
       "      <th>4</th>\n",
       "      <td>5.0</td>\n",
       "      <td>NaN</td>\n",
       "      <td>1.4</td>\n",
       "      <td>0.2</td>\n",
       "      <td>Iris-Setosa</td>\n",
       "    </tr>\n",
       "  </tbody>\n",
       "</table>\n",
       "</div>"
      ],
      "text/plain": [
       "   sepal length (cm)  sepal width (cm)  petal length (cm)  petal width (cm)  \\\n",
       "0                5.1               3.5                1.4               0.2   \n",
       "1                4.9               3.0                1.4               0.2   \n",
       "2                4.7               3.2                1.3               0.2   \n",
       "3                4.6               3.1                1.5               0.2   \n",
       "4                5.0               NaN                1.4               0.2   \n",
       "\n",
       "         Class  \n",
       "0  Iris-Setosa  \n",
       "1  Iris-Setosa  \n",
       "2  Iris-Setosa  \n",
       "3  Iris-Setosa  \n",
       "4  Iris-Setosa  "
      ]
     },
     "execution_count": 2,
     "metadata": {},
     "output_type": "execute_result"
    }
   ],
   "source": [
    "df.head()"
   ]
  },
  {
   "cell_type": "code",
   "execution_count": 3,
   "id": "8cea1e95",
   "metadata": {},
   "outputs": [
    {
     "name": "stdout",
     "output_type": "stream",
     "text": [
      "The shape of the data: (150, 5)\n"
     ]
    }
   ],
   "source": [
    "print('The shape of the data:',df.shape)"
   ]
  },
  {
   "cell_type": "code",
   "execution_count": 4,
   "id": "783a1460",
   "metadata": {},
   "outputs": [
    {
     "name": "stdout",
     "output_type": "stream",
     "text": [
      "The null values in each are: \n",
      " sepal length (cm)     0\n",
      "sepal width (cm)     30\n",
      "petal length (cm)    68\n",
      "petal width (cm)      0\n",
      "Class                 0\n",
      "dtype: int64\n"
     ]
    }
   ],
   "source": [
    "print('The null values in each are:','\\n', df.isnull().sum())"
   ]
  },
  {
   "cell_type": "markdown",
   "id": "df96a3be",
   "metadata": {},
   "source": [
    "### Question-2: Handle null values\n",
    "#### Tasks to do:\n",
    "- Handle null values\n",
    "- If a column has more than 40% null values, drop that column\n",
    "- Else fill the null values with mean of that column"
   ]
  },
  {
   "cell_type": "code",
   "execution_count": 5,
   "id": "bcd40ab6",
   "metadata": {},
   "outputs": [
    {
     "data": {
      "text/plain": [
       "Index(['sepal length (cm)', 'sepal width (cm)', 'petal length (cm)',\n",
       "       'petal width (cm)', 'Class'],\n",
       "      dtype='object')"
      ]
     },
     "execution_count": 5,
     "metadata": {},
     "output_type": "execute_result"
    }
   ],
   "source": [
    "df.columns"
   ]
  },
  {
   "cell_type": "code",
   "execution_count": 6,
   "id": "e88cfdb5",
   "metadata": {},
   "outputs": [
    {
     "data": {
      "text/plain": [
       "60.0"
      ]
     },
     "execution_count": 6,
     "metadata": {},
     "output_type": "execute_result"
    }
   ],
   "source": [
    "0.40*150"
   ]
  },
  {
   "cell_type": "code",
   "execution_count": 7,
   "id": "c13e04ae",
   "metadata": {},
   "outputs": [
    {
     "name": "stdout",
     "output_type": "stream",
     "text": [
      "sepal length (cm)\n",
      "sepal width (cm)\n",
      "petal length (cm)\n",
      "petal width (cm)\n",
      "Class\n"
     ]
    }
   ],
   "source": [
    "for column in list(df.columns):\n",
    "    print(column)"
   ]
  },
  {
   "cell_type": "code",
   "execution_count": 11,
   "id": "ec2cc8df",
   "metadata": {},
   "outputs": [],
   "source": [
    "for column in df.columns:\n",
    "    if df[column].isnull().sum() > (0.40*150):\n",
    "        df.drop(columns=column,axis=1,inplace=True)\n",
    "    elif df[column].isnull().sum():\n",
    "        df[column].replace(np.nan,df[column].mean(),inplace=True)\n",
    "    else:\n",
    "        continue"
   ]
  },
  {
   "cell_type": "code",
   "execution_count": 12,
   "id": "89096c18",
   "metadata": {},
   "outputs": [
    {
     "data": {
      "text/plain": [
       "sepal length (cm)    0\n",
       "sepal width (cm)     0\n",
       "petal width (cm)     0\n",
       "Class                0\n",
       "dtype: int64"
      ]
     },
     "execution_count": 12,
     "metadata": {},
     "output_type": "execute_result"
    }
   ],
   "source": [
    "df.isnull().sum()"
   ]
  },
  {
   "cell_type": "code",
   "execution_count": 13,
   "id": "3f01b997",
   "metadata": {},
   "outputs": [
    {
     "data": {
      "text/html": [
       "<div>\n",
       "<style scoped>\n",
       "    .dataframe tbody tr th:only-of-type {\n",
       "        vertical-align: middle;\n",
       "    }\n",
       "\n",
       "    .dataframe tbody tr th {\n",
       "        vertical-align: top;\n",
       "    }\n",
       "\n",
       "    .dataframe thead th {\n",
       "        text-align: right;\n",
       "    }\n",
       "</style>\n",
       "<table border=\"1\" class=\"dataframe\">\n",
       "  <thead>\n",
       "    <tr style=\"text-align: right;\">\n",
       "      <th></th>\n",
       "      <th>sepal length (cm)</th>\n",
       "      <th>sepal width (cm)</th>\n",
       "      <th>petal width (cm)</th>\n",
       "      <th>Class</th>\n",
       "    </tr>\n",
       "  </thead>\n",
       "  <tbody>\n",
       "    <tr>\n",
       "      <th>0</th>\n",
       "      <td>5.1</td>\n",
       "      <td>3.5000</td>\n",
       "      <td>0.2</td>\n",
       "      <td>Iris-Setosa</td>\n",
       "    </tr>\n",
       "    <tr>\n",
       "      <th>1</th>\n",
       "      <td>4.9</td>\n",
       "      <td>3.0000</td>\n",
       "      <td>0.2</td>\n",
       "      <td>Iris-Setosa</td>\n",
       "    </tr>\n",
       "    <tr>\n",
       "      <th>2</th>\n",
       "      <td>4.7</td>\n",
       "      <td>3.2000</td>\n",
       "      <td>0.2</td>\n",
       "      <td>Iris-Setosa</td>\n",
       "    </tr>\n",
       "    <tr>\n",
       "      <th>3</th>\n",
       "      <td>4.6</td>\n",
       "      <td>3.1000</td>\n",
       "      <td>0.2</td>\n",
       "      <td>Iris-Setosa</td>\n",
       "    </tr>\n",
       "    <tr>\n",
       "      <th>4</th>\n",
       "      <td>5.0</td>\n",
       "      <td>3.0575</td>\n",
       "      <td>0.2</td>\n",
       "      <td>Iris-Setosa</td>\n",
       "    </tr>\n",
       "    <tr>\n",
       "      <th>...</th>\n",
       "      <td>...</td>\n",
       "      <td>...</td>\n",
       "      <td>...</td>\n",
       "      <td>...</td>\n",
       "    </tr>\n",
       "    <tr>\n",
       "      <th>145</th>\n",
       "      <td>6.7</td>\n",
       "      <td>3.0000</td>\n",
       "      <td>2.3</td>\n",
       "      <td>Iris-Virginica</td>\n",
       "    </tr>\n",
       "    <tr>\n",
       "      <th>146</th>\n",
       "      <td>6.3</td>\n",
       "      <td>2.5000</td>\n",
       "      <td>1.9</td>\n",
       "      <td>Iris-Virginica</td>\n",
       "    </tr>\n",
       "    <tr>\n",
       "      <th>147</th>\n",
       "      <td>6.5</td>\n",
       "      <td>3.0000</td>\n",
       "      <td>2.0</td>\n",
       "      <td>Iris-Virginica</td>\n",
       "    </tr>\n",
       "    <tr>\n",
       "      <th>148</th>\n",
       "      <td>6.2</td>\n",
       "      <td>3.0575</td>\n",
       "      <td>2.3</td>\n",
       "      <td>Iris-Virginica</td>\n",
       "    </tr>\n",
       "    <tr>\n",
       "      <th>149</th>\n",
       "      <td>5.9</td>\n",
       "      <td>3.0000</td>\n",
       "      <td>1.8</td>\n",
       "      <td>Iris-Virginica</td>\n",
       "    </tr>\n",
       "  </tbody>\n",
       "</table>\n",
       "<p>150 rows × 4 columns</p>\n",
       "</div>"
      ],
      "text/plain": [
       "     sepal length (cm)  sepal width (cm)  petal width (cm)           Class\n",
       "0                  5.1            3.5000               0.2     Iris-Setosa\n",
       "1                  4.9            3.0000               0.2     Iris-Setosa\n",
       "2                  4.7            3.2000               0.2     Iris-Setosa\n",
       "3                  4.6            3.1000               0.2     Iris-Setosa\n",
       "4                  5.0            3.0575               0.2     Iris-Setosa\n",
       "..                 ...               ...               ...             ...\n",
       "145                6.7            3.0000               2.3  Iris-Virginica\n",
       "146                6.3            2.5000               1.9  Iris-Virginica\n",
       "147                6.5            3.0000               2.0  Iris-Virginica\n",
       "148                6.2            3.0575               2.3  Iris-Virginica\n",
       "149                5.9            3.0000               1.8  Iris-Virginica\n",
       "\n",
       "[150 rows x 4 columns]"
      ]
     },
     "execution_count": 13,
     "metadata": {},
     "output_type": "execute_result"
    }
   ],
   "source": [
    "df"
   ]
  },
  {
   "cell_type": "markdown",
   "id": "a6f63537",
   "metadata": {},
   "source": [
    "### Question-3: We can not use string objects for prediction so convert categorical feature to numerical feature\n",
    "#### Tasks to do:\n",
    "Convert the categorical features to numerical values using Label Encoder from sklearn"
   ]
  },
  {
   "cell_type": "code",
   "execution_count": 14,
   "id": "72a9a341",
   "metadata": {},
   "outputs": [
    {
     "data": {
      "text/html": [
       "<div>\n",
       "<style scoped>\n",
       "    .dataframe tbody tr th:only-of-type {\n",
       "        vertical-align: middle;\n",
       "    }\n",
       "\n",
       "    .dataframe tbody tr th {\n",
       "        vertical-align: top;\n",
       "    }\n",
       "\n",
       "    .dataframe thead th {\n",
       "        text-align: right;\n",
       "    }\n",
       "</style>\n",
       "<table border=\"1\" class=\"dataframe\">\n",
       "  <thead>\n",
       "    <tr style=\"text-align: right;\">\n",
       "      <th></th>\n",
       "      <th>sepal length (cm)</th>\n",
       "      <th>sepal width (cm)</th>\n",
       "      <th>petal width (cm)</th>\n",
       "      <th>Class</th>\n",
       "    </tr>\n",
       "  </thead>\n",
       "  <tbody>\n",
       "    <tr>\n",
       "      <th>0</th>\n",
       "      <td>5.1</td>\n",
       "      <td>3.5000</td>\n",
       "      <td>0.2</td>\n",
       "      <td>Iris-Setosa</td>\n",
       "    </tr>\n",
       "    <tr>\n",
       "      <th>1</th>\n",
       "      <td>4.9</td>\n",
       "      <td>3.0000</td>\n",
       "      <td>0.2</td>\n",
       "      <td>Iris-Setosa</td>\n",
       "    </tr>\n",
       "    <tr>\n",
       "      <th>2</th>\n",
       "      <td>4.7</td>\n",
       "      <td>3.2000</td>\n",
       "      <td>0.2</td>\n",
       "      <td>Iris-Setosa</td>\n",
       "    </tr>\n",
       "    <tr>\n",
       "      <th>3</th>\n",
       "      <td>4.6</td>\n",
       "      <td>3.1000</td>\n",
       "      <td>0.2</td>\n",
       "      <td>Iris-Setosa</td>\n",
       "    </tr>\n",
       "    <tr>\n",
       "      <th>4</th>\n",
       "      <td>5.0</td>\n",
       "      <td>3.0575</td>\n",
       "      <td>0.2</td>\n",
       "      <td>Iris-Setosa</td>\n",
       "    </tr>\n",
       "  </tbody>\n",
       "</table>\n",
       "</div>"
      ],
      "text/plain": [
       "   sepal length (cm)  sepal width (cm)  petal width (cm)        Class\n",
       "0                5.1            3.5000               0.2  Iris-Setosa\n",
       "1                4.9            3.0000               0.2  Iris-Setosa\n",
       "2                4.7            3.2000               0.2  Iris-Setosa\n",
       "3                4.6            3.1000               0.2  Iris-Setosa\n",
       "4                5.0            3.0575               0.2  Iris-Setosa"
      ]
     },
     "execution_count": 14,
     "metadata": {},
     "output_type": "execute_result"
    }
   ],
   "source": [
    "df.head()"
   ]
  },
  {
   "cell_type": "code",
   "execution_count": 15,
   "id": "968cdacc",
   "metadata": {},
   "outputs": [],
   "source": [
    "from sklearn.preprocessing import LabelEncoder\n",
    "le = LabelEncoder()\n",
    "df['Class'] = le.fit_transform(df['Class'])"
   ]
  },
  {
   "cell_type": "code",
   "execution_count": 16,
   "id": "57263a0e",
   "metadata": {},
   "outputs": [
    {
     "data": {
      "text/plain": [
       "0    50\n",
       "1    50\n",
       "2    50\n",
       "Name: Class, dtype: int64"
      ]
     },
     "execution_count": 16,
     "metadata": {},
     "output_type": "execute_result"
    }
   ],
   "source": [
    "df['Class'].value_counts()"
   ]
  },
  {
   "cell_type": "code",
   "execution_count": 17,
   "id": "8d75d7bb",
   "metadata": {},
   "outputs": [
    {
     "data": {
      "text/html": [
       "<div>\n",
       "<style scoped>\n",
       "    .dataframe tbody tr th:only-of-type {\n",
       "        vertical-align: middle;\n",
       "    }\n",
       "\n",
       "    .dataframe tbody tr th {\n",
       "        vertical-align: top;\n",
       "    }\n",
       "\n",
       "    .dataframe thead th {\n",
       "        text-align: right;\n",
       "    }\n",
       "</style>\n",
       "<table border=\"1\" class=\"dataframe\">\n",
       "  <thead>\n",
       "    <tr style=\"text-align: right;\">\n",
       "      <th></th>\n",
       "      <th>sepal length (cm)</th>\n",
       "      <th>sepal width (cm)</th>\n",
       "      <th>petal width (cm)</th>\n",
       "      <th>Class</th>\n",
       "    </tr>\n",
       "  </thead>\n",
       "  <tbody>\n",
       "    <tr>\n",
       "      <th>0</th>\n",
       "      <td>5.1</td>\n",
       "      <td>3.5000</td>\n",
       "      <td>0.2</td>\n",
       "      <td>0</td>\n",
       "    </tr>\n",
       "    <tr>\n",
       "      <th>1</th>\n",
       "      <td>4.9</td>\n",
       "      <td>3.0000</td>\n",
       "      <td>0.2</td>\n",
       "      <td>0</td>\n",
       "    </tr>\n",
       "    <tr>\n",
       "      <th>2</th>\n",
       "      <td>4.7</td>\n",
       "      <td>3.2000</td>\n",
       "      <td>0.2</td>\n",
       "      <td>0</td>\n",
       "    </tr>\n",
       "    <tr>\n",
       "      <th>3</th>\n",
       "      <td>4.6</td>\n",
       "      <td>3.1000</td>\n",
       "      <td>0.2</td>\n",
       "      <td>0</td>\n",
       "    </tr>\n",
       "    <tr>\n",
       "      <th>4</th>\n",
       "      <td>5.0</td>\n",
       "      <td>3.0575</td>\n",
       "      <td>0.2</td>\n",
       "      <td>0</td>\n",
       "    </tr>\n",
       "  </tbody>\n",
       "</table>\n",
       "</div>"
      ],
      "text/plain": [
       "   sepal length (cm)  sepal width (cm)  petal width (cm)  Class\n",
       "0                5.1            3.5000               0.2      0\n",
       "1                4.9            3.0000               0.2      0\n",
       "2                4.7            3.2000               0.2      0\n",
       "3                4.6            3.1000               0.2      0\n",
       "4                5.0            3.0575               0.2      0"
      ]
     },
     "execution_count": 17,
     "metadata": {},
     "output_type": "execute_result"
    }
   ],
   "source": [
    "df.head()"
   ]
  },
  {
   "cell_type": "markdown",
   "id": "be7981b3",
   "metadata": {},
   "source": [
    "### Question-4: Handle outlier\n",
    "#### Tasks to do:\n",
    "- Check for outlier in all the columns using boxplot.\n",
    "- If there are outliers, clip them, lower limit will be Q1-1.5 IQR and upper limit will be Q3+1.5 IQR.\n",
    "- Q1 = 1st Quartile (25%)\n",
    "- Q3 = 3rd Quartile (75%)\n",
    "- IQR = Inter-quartile range (Q3-Q1)"
   ]
  },
  {
   "cell_type": "code",
   "execution_count": 29,
   "id": "b68dc79e",
   "metadata": {},
   "outputs": [
    {
     "data": {
      "image/png": "[encoded data removed]",
      "text/plain": [
       "<Figure size 504x504 with 1 Axes>"
      ]
     },
     "metadata": {
      "needs_background": "light"
     },
     "output_type": "display_data"
    }
   ],
   "source": [
    "import matplotlib.pyplot as plt\n",
    "\n",
    "df.boxplot(figsize=(7,7))\n",
    "plt.xticks(rotation=90)\n",
    "plt.show()\n"
   ]
  },
  {
   "cell_type": "markdown",
   "id": "36033822",
   "metadata": {},
   "source": [
    "Sepal width contains outliers, so we will need to cap them."
   ]
  },
  {
   "cell_type": "code",
   "execution_count": 34,
   "id": "b209557c",
   "metadata": {},
   "outputs": [],
   "source": [
    "q1 = df['sepal width (cm)'].quantile(.25)\n",
    "q3 = df['sepal width (cm)'].quantile(.75)\n",
    "IQR = q3-q1"
   ]
  },
  {
   "cell_type": "code",
   "execution_count": 38,
   "id": "1f3f012f",
   "metadata": {},
   "outputs": [],
   "source": [
    "df['sepal width (cm)'] = np.clip(df['sepal width (cm)'],q1 - 1.5 * IQR, q3+1.5 * IQR)"
   ]
  },
  {
   "cell_type": "code",
   "execution_count": 39,
   "id": "9efecf48",
   "metadata": {},
   "outputs": [
    {
     "data": {
      "text/plain": [
       "0      3.5000\n",
       "1      3.0000\n",
       "2      3.2000\n",
       "3      3.1000\n",
       "4      3.0575\n",
       "        ...  \n",
       "145    3.0000\n",
       "146    2.5000\n",
       "147    3.0000\n",
       "148    3.0575\n",
       "149    3.0000\n",
       "Name: sepal width (cm), Length: 150, dtype: float64"
      ]
     },
     "execution_count": 39,
     "metadata": {},
     "output_type": "execute_result"
    }
   ],
   "source": []
  },
  {
   "cell_type": "code",
   "execution_count": 40,
   "id": "b549b1fd",
   "metadata": {},
   "outputs": [
    {
     "data": {
      "image/png": "[encoded data removed]",
      "text/plain": [
       "<Figure size 504x504 with 1 Axes>"
      ]
     },
     "metadata": {
      "needs_background": "light"
     },
     "output_type": "display_data"
    }
   ],
   "source": [
    "df.boxplot(figsize=(7,7))\n",
    "plt.xticks(rotation=90)\n",
    "plt.show()"
   ]
  },
  {
   "cell_type": "markdown",
   "id": "ec220c18",
   "metadata": {},
   "source": [
    "Now we can see there are no outliers left\n"
   ]
  },
  {
   "cell_type": "markdown",
   "id": "cf15ab18",
   "metadata": {},
   "source": [
    "# Question-5: Plot the correlation and tell which feature will help the most during prediction\n",
    "\n",
    "- Calculate correlation\n",
    "- Plot the correlation\n",
    "- Compare the correlation"
   ]
  },
  {
   "cell_type": "code",
   "execution_count": 44,
   "id": "3d72955e",
   "metadata": {},
   "outputs": [
    {
     "data": {
      "text/plain": [
       "<AxesSubplot:>"
      ]
     },
     "execution_count": 44,
     "metadata": {},
     "output_type": "execute_result"
    },
    {
     "data": {
      "image/png": "[encoded data removed]",
      "text/plain": [
       "<Figure size 432x288 with 2 Axes>"
      ]
     },
     "metadata": {
      "needs_background": "light"
     },
     "output_type": "display_data"
    }
   ],
   "source": [
    "import seaborn as sns\n",
    "sns.heatmap(df.corr(), annot = True)"
   ]
  },
  {
   "cell_type": "markdown",
   "id": "f9331baf",
   "metadata": {},
   "source": [
    "Petal width and sepal length are highly correlated with feature Class"
   ]
  },
  {
   "cell_type": "markdown",
   "id": "a071cc29",
   "metadata": {},
   "source": [
    "### Question-6: Split the data into training and testing datasets\n",
    "#### Tasks to do:\n",
    "- Split the dataset using sklearn, with 20% for testing with random_state=7"
   ]
  },
  {
   "cell_type": "code",
   "execution_count": 45,
   "id": "bcdb2a4e",
   "metadata": {},
   "outputs": [],
   "source": [
    "from sklearn.model_selection import train_test_split\n"
   ]
  },
  {
   "cell_type": "code",
   "execution_count": 70,
   "id": "71d1919d",
   "metadata": {},
   "outputs": [],
   "source": [
    "X = df.drop(labels='Class',axis=1)\n",
    "y = df['Class']"
   ]
  },
  {
   "cell_type": "code",
   "execution_count": 73,
   "id": "ff9c9289",
   "metadata": {},
   "outputs": [],
   "source": [
    "X_train, X_test, y_train, y_test = train_test_split(X, y, test_size=0.20, random_state=42)"
   ]
  },
  {
   "cell_type": "code",
   "execution_count": 78,
   "id": "8945dd21",
   "metadata": {},
   "outputs": [
    {
     "name": "stdout",
     "output_type": "stream",
     "text": [
      "(120, 3) (30, 3) (120,) (30,)\n"
     ]
    }
   ],
   "source": [
    "print(X_train.shape,X_test.shape,y_train.shape,y_test.shape)"
   ]
  },
  {
   "cell_type": "code",
   "execution_count": null,
   "id": "d063eaf0",
   "metadata": {},
   "outputs": [],
   "source": []
  }
 ],
 "metadata": {
  "kernelspec": {
   "display_name": "Python 3 (ipykernel)",
   "language": "python",
   "name": "python3"
  },
  "language_info": {
   "codemirror_mode": {
    "name": "ipython",
    "version": 3
   },
   "file_extension": ".py",
   "mimetype": "text/x-python",
   "name": "python",
   "nbconvert_exporter": "python",
   "pygments_lexer": "ipython3",
   "version": "3.9.7"
  }
 },
 "nbformat": 4,
 "nbformat_minor": 5
}
